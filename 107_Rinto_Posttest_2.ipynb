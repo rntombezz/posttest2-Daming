{
  "nbformat": 4,
  "nbformat_minor": 0,
  "metadata": {
    "colab": {
      "provenance": [],
      "include_colab_link": true
    },
    "kernelspec": {
      "name": "python3",
      "display_name": "Python 3"
    },
    "language_info": {
      "name": "python"
    }
  },
  "cells": [
    {
      "cell_type": "markdown",
      "metadata": {
        "id": "view-in-github",
        "colab_type": "text"
      },
      "source": [
        "<a href=\"https://colab.research.google.com/github/rntombezz/posttest2-Daming/blob/main/107_Rinto_Posttest_2.ipynb\" target=\"_parent\"><img src=\"https://colab.research.google.com/assets/colab-badge.svg\" alt=\"Open In Colab\"/></a>"
      ]
    },
    {
      "cell_type": "markdown",
      "source": [
        "# (1) Apriori"
      ],
      "metadata": {
        "id": "-0zOQSl3wlwj"
      }
    },
    {
      "cell_type": "code",
      "source": [
        "import pandas as pd\n",
        "from mlxtend.preprocessing import TransactionEncoder\n",
        "from mlxtend.frequent_patterns import apriori, association_rules"
      ],
      "metadata": {
        "id": "QKdfs5AyvGSs"
      },
      "execution_count": 26,
      "outputs": []
    },
    {
      "cell_type": "code",
      "source": [
        "# data in the form of transaction list\n",
        "data = [['whole milk', 'pastry', 'salty snack'],\n",
        "    ['sausage', 'whole milk', 'semi-finished bread', 'yogurt'],\n",
        "    ['soda', 'pickled vegetables'],\n",
        "    ['canned beer', 'misc. beverages'],\n",
        "    ['sausage', 'hygiene articles'],\n",
        "    ['sausage', 'whole milk', 'rolls/buns'],\n",
        "    ['whole milk', 'soda'],\n",
        "    ['frankfurter', 'soda', 'whipped/sour cream'],\n",
        "    ['frankfurter', 'curd'],\n",
        "    ['beef', 'white bread'],\n",
        "    ['butter', 'whole milk'],\n",
        "    ['frozen vegetables', 'other vegetables'],\n",
        "    ['tropical fruit', 'sugar'],\n",
        "    ['butter milk', 'specialty chocolate'],\n",
        "    ['frozen meals', 'dental care'],\n",
        "    ['rolls/buns', 'rolls/buns'],\n",
        "    ['root vegetables', 'detergent'],\n",
        "    ['sausage', 'rolls/buns'],\n",
        "    ['dish cleaner', 'cling film/bags'],\n",
        "]\n",
        "\n",
        "df = pd.DataFrame(data)\n",
        "df = pd.get_dummies(df.stack()).sum(level=0)\n",
        "print(df)"
      ],
      "metadata": {
        "colab": {
          "base_uri": "https://localhost:8080/"
        },
        "id": "ke_0RoeRwGo0",
        "outputId": "0c713405-da2f-4621-8b02-495c764d0a7a"
      },
      "execution_count": 27,
      "outputs": [
        {
          "output_type": "stream",
          "name": "stdout",
          "text": [
            "    beef  butter  butter milk  canned beer  cling film/bags  curd  \\\n",
            "0      0       0            0            0                0     0   \n",
            "1      0       0            0            0                0     0   \n",
            "2      0       0            0            0                0     0   \n",
            "3      0       0            0            1                0     0   \n",
            "4      0       0            0            0                0     0   \n",
            "5      0       0            0            0                0     0   \n",
            "6      0       0            0            0                0     0   \n",
            "7      0       0            0            0                0     0   \n",
            "8      0       0            0            0                0     1   \n",
            "9      1       0            0            0                0     0   \n",
            "10     0       1            0            0                0     0   \n",
            "11     0       0            0            0                0     0   \n",
            "12     0       0            0            0                0     0   \n",
            "13     0       0            1            0                0     0   \n",
            "14     0       0            0            0                0     0   \n",
            "15     0       0            0            0                0     0   \n",
            "16     0       0            0            0                0     0   \n",
            "17     0       0            0            0                0     0   \n",
            "18     0       0            0            0                1     0   \n",
            "\n",
            "    dental care  detergent  dish cleaner  frankfurter  ...  sausage  \\\n",
            "0             0          0             0            0  ...        0   \n",
            "1             0          0             0            0  ...        1   \n",
            "2             0          0             0            0  ...        0   \n",
            "3             0          0             0            0  ...        0   \n",
            "4             0          0             0            0  ...        1   \n",
            "5             0          0             0            0  ...        1   \n",
            "6             0          0             0            0  ...        0   \n",
            "7             0          0             0            1  ...        0   \n",
            "8             0          0             0            1  ...        0   \n",
            "9             0          0             0            0  ...        0   \n",
            "10            0          0             0            0  ...        0   \n",
            "11            0          0             0            0  ...        0   \n",
            "12            0          0             0            0  ...        0   \n",
            "13            0          0             0            0  ...        0   \n",
            "14            1          0             0            0  ...        0   \n",
            "15            0          0             0            0  ...        0   \n",
            "16            0          1             0            0  ...        0   \n",
            "17            0          0             0            0  ...        1   \n",
            "18            0          0             1            0  ...        0   \n",
            "\n",
            "    semi-finished bread  soda  specialty chocolate  sugar  tropical fruit  \\\n",
            "0                     0     0                    0      0               0   \n",
            "1                     1     0                    0      0               0   \n",
            "2                     0     1                    0      0               0   \n",
            "3                     0     0                    0      0               0   \n",
            "4                     0     0                    0      0               0   \n",
            "5                     0     0                    0      0               0   \n",
            "6                     0     1                    0      0               0   \n",
            "7                     0     1                    0      0               0   \n",
            "8                     0     0                    0      0               0   \n",
            "9                     0     0                    0      0               0   \n",
            "10                    0     0                    0      0               0   \n",
            "11                    0     0                    0      0               0   \n",
            "12                    0     0                    0      1               1   \n",
            "13                    0     0                    1      0               0   \n",
            "14                    0     0                    0      0               0   \n",
            "15                    0     0                    0      0               0   \n",
            "16                    0     0                    0      0               0   \n",
            "17                    0     0                    0      0               0   \n",
            "18                    0     0                    0      0               0   \n",
            "\n",
            "    whipped/sour cream  white bread  whole milk  yogurt  \n",
            "0                    0            0           1       0  \n",
            "1                    0            0           1       1  \n",
            "2                    0            0           0       0  \n",
            "3                    0            0           0       0  \n",
            "4                    0            0           0       0  \n",
            "5                    0            0           1       0  \n",
            "6                    0            0           1       0  \n",
            "7                    1            0           0       0  \n",
            "8                    0            0           0       0  \n",
            "9                    0            1           0       0  \n",
            "10                   0            0           1       0  \n",
            "11                   0            0           0       0  \n",
            "12                   0            0           0       0  \n",
            "13                   0            0           0       0  \n",
            "14                   0            0           0       0  \n",
            "15                   0            0           0       0  \n",
            "16                   0            0           0       0  \n",
            "17                   0            0           0       0  \n",
            "18                   0            0           0       0  \n",
            "\n",
            "[19 rows x 30 columns]\n"
          ]
        },
        {
          "output_type": "stream",
          "name": "stderr",
          "text": [
            "<ipython-input-27-0f928d2872f2>:24: FutureWarning: Using the level keyword in DataFrame and Series aggregations is deprecated and will be removed in a future version. Use groupby instead. df.sum(level=1) should use df.groupby(level=1).sum().\n",
            "  df = pd.get_dummies(df.stack()).sum(level=0)\n"
          ]
        }
      ]
    },
    {
      "cell_type": "code",
      "source": [
        "import pandas as pd\n",
        "from mlxtend.preprocessing import TransactionEncoder\n",
        "from mlxtend.frequent_patterns import apriori, association_rules\n",
        "\n",
        "# data in the form of transaction list\n",
        "data = [    ['whole milk', 'pastry', 'salty snack'],\n",
        "    ['sausage', 'whole milk', 'semi-finished bread', 'yogurt'],\n",
        "    ['soda', 'pickled vegetables'],\n",
        "    ['canned beer', 'misc. beverages'],\n",
        "    ['sausage', 'hygiene articles'],\n",
        "    ['sausage', 'whole milk', 'rolls/buns'],\n",
        "    ['whole milk', 'soda'],\n",
        "    ['frankfurter', 'soda', 'whipped/sour cream'],\n",
        "    ['frankfurter', 'curd'],\n",
        "    ['beef', 'white bread'],\n",
        "    ['butter', 'whole milk'],\n",
        "    ['frozen vegetables', 'other vegetables'],\n",
        "    ['tropical fruit', 'sugar'],\n",
        "    ['butter milk', 'specialty chocolate'],\n",
        "    ['frozen meals', 'dental care'],\n",
        "    ['rolls/buns', 'rolls/buns'],\n",
        "    ['root vegetables', 'detergent'],\n",
        "    ['sausage', 'rolls/buns'],\n",
        "    ['dish cleaner', 'cling film/bags'],\n",
        "]\n",
        "\n",
        "# convert data to one-hot encoding format\n",
        "te = TransactionEncoder()\n",
        "te_ary = te.fit(data).transform(data)\n",
        "df = pd.DataFrame(te_ary, columns=te.columns_)\n",
        "\n",
        "# find frequently occurring itemsets (support) with Apriori algorithm\n",
        "frequent_itemsets = apriori(df, min_support=0.05, use_colnames=True)\n",
        "\n",
        "# find association rules with Association Rule Mining algorithm\n",
        "rules = association_rules(frequent_itemsets, metric=\"confidence\", min_threshold=0.5)\n",
        "\n",
        "# create table of support for itemsets\n",
        "df_support = frequent_itemsets\n",
        "df_support['support'] = df_support['support'].apply(lambda x: \"{:.2f}%\".format(x*100))\n",
        "df_support = df_support.rename(columns={\"itemsets\": \"itemset\"})\n",
        "df_support = df_support.set_index('itemset')\n",
        "print(df_support)\n",
        "\n",
        "# create table of support and confidence for rules\n",
        "df_rules = pd.DataFrame(rules, columns=['antecedents', 'consequents', 'support', 'confidence', 'lift'])\n",
        "\n",
        "# filter rules with only one antecedent and one consequent\n",
        "df_rules = df_rules[df_rules['antecedents'].apply(lambda x: len(x) == 1) & df_rules['consequents'].apply(lambda x: len(x) == 1)]\n",
        "\n",
        "# format antecedent and consequent columns\n",
        "df_rules['antecedents'] = df_rules['antecedents'].apply(lambda x: list(x)[0])\n",
        "df_rules['consequents'] = df_rules['consequents'].apply(lambda x: list(x)[0])\n",
        "\n",
        "# set antecedent as index and sort by confidence\n",
        "df_rules = df_rules.set_index('antecedents')\n",
        "df_rules = df_rules.sort_values(by=['confidence'], ascending=False)\n",
        "\n",
        "# create table of support and confidence for filtered rules\n",
        "df_rules = df_rules[['consequents', 'support', 'confidence']]\n",
        "df_rules['support'] = df_rules['support'].apply(lambda x: \"{:.2f}%\".format(x*100))\n",
        "df_rules['confidence'] = df_rules['confidence'].apply(lambda x: \"{:.2f}%\".format(x*100))\n",
        "print(\"\\n\")\n",
        "print(\"HASIL SUPPORT DAN CONFIDENCE\")\n",
        "print(\"\\n\")\n",
        "\n",
        "print(df_rules)\n",
        "\n"
      ],
      "metadata": {
        "colab": {
          "base_uri": "https://localhost:8080/"
        },
        "id": "dcikJ1kMwiIN",
        "outputId": "65231de0-5424-4318-ada7-4ada1130379d"
      },
      "execution_count": 28,
      "outputs": [
        {
          "output_type": "stream",
          "name": "stdout",
          "text": [
            "                                                   support\n",
            "itemset                                                   \n",
            "(beef)                                               5.26%\n",
            "(butter)                                             5.26%\n",
            "(butter milk)                                        5.26%\n",
            "(canned beer)                                        5.26%\n",
            "(cling film/bags)                                    5.26%\n",
            "...                                                    ...\n",
            "(whole milk, semi-finished bread, sausage)           5.26%\n",
            "(yogurt, semi-finished bread, sausage)               5.26%\n",
            "(whole milk, yogurt, sausage)                        5.26%\n",
            "(whole milk, yogurt, semi-finished bread)            5.26%\n",
            "(yogurt, whole milk, semi-finished bread, sausage)   5.26%\n",
            "\n",
            "[65 rows x 1 columns]\n",
            "\n",
            "\n",
            "HASIL SUPPORT DAN CONFIDENCE\n",
            "\n",
            "\n",
            "                             consequents support confidence\n",
            "antecedents                                                \n",
            "white bread                         beef   5.26%    100.00%\n",
            "semi-finished bread              sausage   5.26%    100.00%\n",
            "hygiene articles                 sausage   5.26%    100.00%\n",
            "salty snack                       pastry   5.26%    100.00%\n",
            "pastry                       salty snack   5.26%    100.00%\n",
            "pastry                        whole milk   5.26%    100.00%\n",
            "pickled vegetables                  soda   5.26%    100.00%\n",
            "salty snack                   whole milk   5.26%    100.00%\n",
            "yogurt                           sausage   5.26%    100.00%\n",
            "other vegetables       frozen vegetables   5.26%    100.00%\n",
            "semi-finished bread           whole milk   5.26%    100.00%\n",
            "yogurt               semi-finished bread   5.26%    100.00%\n",
            "semi-finished bread               yogurt   5.26%    100.00%\n",
            "whipped/sour cream                  soda   5.26%    100.00%\n",
            "sugar                     tropical fruit   5.26%    100.00%\n",
            "tropical fruit                     sugar   5.26%    100.00%\n",
            "beef                         white bread   5.26%    100.00%\n",
            "frozen vegetables       other vegetables   5.26%    100.00%\n",
            "yogurt                        whole milk   5.26%    100.00%\n",
            "canned beer              misc. beverages   5.26%    100.00%\n",
            "butter                        whole milk   5.26%    100.00%\n",
            "root vegetables                detergent   5.26%    100.00%\n",
            "detergent                root vegetables   5.26%    100.00%\n",
            "dental care                 frozen meals   5.26%    100.00%\n",
            "frozen meals                 dental care   5.26%    100.00%\n",
            "butter milk          specialty chocolate   5.26%    100.00%\n",
            "curd                         frankfurter   5.26%    100.00%\n",
            "whipped/sour cream           frankfurter   5.26%    100.00%\n",
            "specialty chocolate          butter milk   5.26%    100.00%\n",
            "dish cleaner             cling film/bags   5.26%    100.00%\n",
            "cling film/bags             dish cleaner   5.26%    100.00%\n",
            "misc. beverages              canned beer   5.26%    100.00%\n",
            "rolls/buns                       sausage  10.53%     66.67%\n",
            "frankfurter           whipped/sour cream   5.26%     50.00%\n",
            "sausage                       whole milk  10.53%     50.00%\n",
            "sausage                       rolls/buns  10.53%     50.00%\n",
            "frankfurter                         soda   5.26%     50.00%\n",
            "frankfurter                         curd   5.26%     50.00%\n"
          ]
        }
      ]
    },
    {
      "cell_type": "code",
      "source": [
        "import pandas as pd\n",
        "import math\n",
        "\n",
        "# Membuat data frame\n",
        "df = pd.read_csv('deteksi_uang_palsu.csv')\n",
        "\n",
        "# Menentukan target prediksi\n",
        "target = {'height_left': 172.25,\n",
        "          'height_right': 103.94,\n",
        "          'margin_low': 103.68,\n",
        "          'margin_up': 4.14,\n",
        "          'length': 3.25}\n",
        "\n",
        "# Membuat kolom jarak\n",
        "df['jarak'] = df.apply(lambda x: math.sqrt((x['height_left'] - target['height_left'])**2 + \n",
        "                                           (x['height_right'] - target['height_right'])**2 + \n",
        "                                           (x['margin_low'] - target['margin_low'])**2 + \n",
        "                                           (x['margin_up'] - target['margin_up'])**2 + \n",
        "                                           (x['length'] - target['length'])**2), axis=1)\n",
        "\n",
        "# Menampilkan tabel jarak\n",
        "print(df)"
      ],
      "metadata": {
        "colab": {
          "base_uri": "https://localhost:8080/"
        },
        "id": "koMawmpkx5up",
        "outputId": "3203f0af-c6bd-4731-b3ef-53d00c7c7722"
      },
      "execution_count": 30,
      "outputs": [
        {
          "output_type": "stream",
          "name": "stdout",
          "text": [
            "   is_genuine  diagonal  height_left  height_right  margin_low  margin_up  \\\n",
            "0        True    172.06       104.24        103.66        4.24       3.10   \n",
            "1        True    171.66       103.68        103.41        4.35       3.33   \n",
            "2        True    172.23       104.00        103.35        4.43       2.95   \n",
            "3        True    172.07       104.21        103.82        4.29       3.35   \n",
            "4        True    171.79       104.57        104.04        4.26       3.15   \n",
            "5       False    172.00       104.23        104.52        5.76       3.37   \n",
            "6       False    171.56       104.03        103.93        5.47       3.50   \n",
            "7       False    171.90       104.33        104.40        4.70       3.31   \n",
            "8       False    171.84       104.06        104.10        4.87       3.25   \n",
            "9       False    172.11       104.14        104.15        4.84       3.28   \n",
            "\n",
            "   length       jarak  \n",
            "0  113.02  162.985541  \n",
            "1  113.74  163.637621  \n",
            "2  113.12  163.039278  \n",
            "3  113.30  163.154696  \n",
            "4  113.46  163.132317  \n",
            "5  110.94  160.664595  \n",
            "6  111.67  161.413998  \n",
            "7  112.12  162.060927  \n",
            "8  111.04  161.346813  \n",
            "9  110.98  161.291210  \n"
          ]
        }
      ]
    },
    {
      "cell_type": "markdown",
      "source": [
        "Gunakan dataset ini : https://drive.google.com/file/d/1BqC-2d1ZYqFIFwdjdsW5bAAqNFh2AO4C/view?usp=share_link\n",
        "\n",
        "Dan buatlah daftar support dan confidence untuk 2 item set dengan menggunakan dataset tersebut (hint : buatlah tabel tabulasi terlebih dahulu untuk memudahkan)"
      ],
      "metadata": {
        "id": "h-to2rkExJxa"
      }
    },
    {
      "cell_type": "markdown",
      "source": [
        "#(2) KNN\n",
        "\n",
        "Gunakan dataset ini : https://drive.google.com/file/d/1pXAJZZXCXosf0PTJkyogopKaPFxCYl22/view?usp=share_link\n",
        "\n",
        "Kemudian buatlah tabel jarak berdasarkan data berikut ini : \n",
        "\n",
        "![Gambar](data:image/png;base64,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)\n",
        "<!-- 1412 -->"
      ],
      "metadata": {
        "id": "wEgfTlH7xlgG"
      }
    },
    {
      "cell_type": "code",
      "source": [
        "import pandas as pd\n",
        "import math\n"
      ],
      "metadata": {
        "id": "0o683sp8ywgr"
      },
      "execution_count": 31,
      "outputs": []
    },
    {
      "cell_type": "code",
      "source": [
        "# 1. Tambahkan kolom jarak untuk menampilkan jarak dari dataset terhadap target prediksi\n",
        "\n",
        "# Membuat data frame\n",
        "df = pd.read_csv('deteksi_uang_palsu.csv')\n",
        "\n",
        "# Menentukan target prediksi\n",
        "target = {'height_left': 172.25,\n",
        "          'height_right': 103.94,\n",
        "          'margin_low': 103.68,\n",
        "          'margin_up': 4.14,\n",
        "          'length': 3.25}\n",
        "\n",
        "# Membuat kolom jarak\n",
        "df['jarak'] = df.apply(lambda x: math.sqrt((x['height_left'] - target['height_left'])**2 + \n",
        "                                           (x['height_right'] - target['height_right'])**2 + \n",
        "                                           (x['margin_low'] - target['margin_low'])**2 + \n",
        "                                           (x['margin_up'] - target['margin_up'])**2 + \n",
        "                                           (x['length'] - target['length'])**2), axis=1)\n",
        "\n",
        "# Menampilkan tabel jarak\n",
        "print(df)"
      ],
      "metadata": {
        "id": "09vio_0B1KQk",
        "colab": {
          "base_uri": "https://localhost:8080/"
        },
        "outputId": "8022fc17-346f-44e6-87db-12979ca5dd27"
      },
      "execution_count": 32,
      "outputs": [
        {
          "output_type": "stream",
          "name": "stdout",
          "text": [
            "   is_genuine  diagonal  height_left  height_right  margin_low  margin_up  \\\n",
            "0        True    172.06       104.24        103.66        4.24       3.10   \n",
            "1        True    171.66       103.68        103.41        4.35       3.33   \n",
            "2        True    172.23       104.00        103.35        4.43       2.95   \n",
            "3        True    172.07       104.21        103.82        4.29       3.35   \n",
            "4        True    171.79       104.57        104.04        4.26       3.15   \n",
            "5       False    172.00       104.23        104.52        5.76       3.37   \n",
            "6       False    171.56       104.03        103.93        5.47       3.50   \n",
            "7       False    171.90       104.33        104.40        4.70       3.31   \n",
            "8       False    171.84       104.06        104.10        4.87       3.25   \n",
            "9       False    172.11       104.14        104.15        4.84       3.28   \n",
            "\n",
            "   length       jarak  \n",
            "0  113.02  162.985541  \n",
            "1  113.74  163.637621  \n",
            "2  113.12  163.039278  \n",
            "3  113.30  163.154696  \n",
            "4  113.46  163.132317  \n",
            "5  110.94  160.664595  \n",
            "6  111.67  161.413998  \n",
            "7  112.12  162.060927  \n",
            "8  111.04  161.346813  \n",
            "9  110.98  161.291210  \n"
          ]
        }
      ]
    },
    {
      "cell_type": "code",
      "source": [
        "# 2. Urutkan data berdasarkan K jarak terdekat (Untuk K nya ambil akar 2 dari banyak data)\n",
        "\n",
        "# load data\n",
        "df = pd.read_csv(\"deteksi_uang_palsu.csv\")\n",
        "\n",
        "# hitung jarak dari setiap data terhadap target prediksi\n",
        "target = [172.25, 103.94, 103.68, 4.14, 3.25, 112.48]\n",
        "jarak = []\n",
        "for i in range(len(df)):\n",
        "    d = 0\n",
        "    for j in range(1, 7):\n",
        "        d += (df.iloc[i, j] - target[j-1])**2\n",
        "    jarak.append(math.sqrt(d))\n",
        "df['jarak'] = jarak\n",
        "\n",
        "# urutkan data berdasarkan jarak terdekat\n",
        "K = int(math.sqrt(len(df)))\n",
        "df_sorted = df.sort_values(by='jarak').head(K)\n",
        "\n",
        "# tampilkan data terurut\n",
        "print(df_sorted)"
      ],
      "metadata": {
        "id": "DgeVwMEX2JZi",
        "colab": {
          "base_uri": "https://localhost:8080/"
        },
        "outputId": "74aa6825-07c2-452d-de2d-eab569d35109"
      },
      "execution_count": 33,
      "outputs": [
        {
          "output_type": "stream",
          "name": "stdout",
          "text": [
            "   is_genuine  diagonal  height_left  height_right  margin_low  margin_up  \\\n",
            "0        True    172.06       104.24        103.66        4.24       3.10   \n",
            "2        True    172.23       104.00        103.35        4.43       2.95   \n",
            "3        True    172.07       104.21        103.82        4.29       3.35   \n",
            "\n",
            "   length     jarak  \n",
            "0  113.02  0.671267  \n",
            "2  113.12  0.834626  \n",
            "3  113.30  0.910934  \n"
          ]
        }
      ]
    },
    {
      "cell_type": "code",
      "source": [
        "# 3. Tentukan apa hasil prediksinya berdasarkan label terbanyak\n",
        "\n",
        "# tentukan nilai K\n",
        "K = round(len(df)**0.5)\n",
        "\n",
        "# ambil K data terdekat\n",
        "k_nearest_neighbors = df_sorted[:K]\n",
        "\n",
        "# hitung label terbanyak\n",
        "prediction = pd.DataFrame(k_nearest_neighbors['is_genuine'].mode())\n",
        "\n",
        "print(\"Hasil prediksi: \")\n",
        "print(prediction)"
      ],
      "metadata": {
        "id": "JAho0GXZ2QeD",
        "colab": {
          "base_uri": "https://localhost:8080/"
        },
        "outputId": "91465e3d-02f0-4f2a-8131-20e22f6f7dcd"
      },
      "execution_count": 34,
      "outputs": [
        {
          "output_type": "stream",
          "name": "stdout",
          "text": [
            "Hasil prediksi: \n",
            "   is_genuine\n",
            "0        True\n"
          ]
        }
      ]
    },
    {
      "cell_type": "markdown",
      "source": [
        "# (3) Analisis"
      ],
      "metadata": {
        "id": "F0N-LXThwiqD"
      }
    },
    {
      "cell_type": "markdown",
      "source": [
        "> Nama :Rinto\n",
        "\n",
        "> Nim :2109116107\n"
      ],
      "metadata": {
        "id": "dItRdcTguaHj"
      }
    },
    {
      "cell_type": "markdown",
      "source": [
        "Penjelasan posttest : \n",
        "\n",
        "Pilihlah salah satu tema dari daftar tema ini :  \n",
        "1. Perbankan\n",
        "2. Kesehatan\n",
        "3. Ritel\n",
        "4. Pendidkan\n",
        "\n",
        "Kemudian lakukan analisis dengan menggunakan struktur CRISP-DM\n",
        "\n",
        "Dimulai dari Business Understanding Hingga Data Preparation \n",
        "<img src=\"https://th.bing.com/th/id/R.f8efea41ae3cd96d86fbc5b10f81ad77?rik=K4Dr%2biIaVGvW8g&riu=http%3a%2f%2fwww.dataprix.com%2ffiles%2fCRISPDM%2fMetodologia_CRISP_DM1_html_52cdbecf.png&ehk=6ONLJMCVxE421Sjt2JJPE6MfCzrL7LLhDZQPdkJTLcw%3d&risl=&pid=ImgRaw&r=0\"/>\n",
        "\n",
        "Tentukan judul dengan ketentuan setiap orang di kelas beda-beda judulnya dan sumber datasetnya (contoh bisa prediksi atau aturan asosiasi)\n",
        "\n",
        "Catatan : Tugas ini akan berhubungan dengan posttest terakhir (pertemuan 6)"
      ],
      "metadata": {
        "id": "Vbv4o0Q2uiXZ"
      }
    },
    {
      "cell_type": "markdown",
      "source": [
        "##Judul \"Bank Data Bisboll\" donlod dibawah ini bang\n",
        "https://drive.google.com/file/d/15WVlrH2MBFPHScy1veas444ZNsB6_Ksp/view?usp=sharing "
      ],
      "metadata": {
        "id": "dS20gYiezmin"
      }
    },
    {
      "cell_type": "markdown",
      "source": [
        "##Business Understanding"
      ],
      "metadata": {
        "id": "Exo0FWmoz5yU"
      }
    },
    {
      "cell_type": "markdown",
      "source": [
        "Dataset ini bertujuan untuk mengetahui dan mengelolah data tentang pemain, tim, dari player bisbol dari tahun 1871 hingga 2015"
      ],
      "metadata": {
        "id": "FqKlBquV0BTA"
      }
    },
    {
      "cell_type": "markdown",
      "source": [
        "##Data Understanding"
      ],
      "metadata": {
        "id": "MC_yKswA0XSQ"
      }
    },
    {
      "cell_type": "code",
      "source": [
        "import pandas as pd\n",
        "import seaborn as sns\n",
        "import plotly.express as px\n",
        "import numpy as np\n",
        "import matplotlib.pyplot as plt\n",
        "pd.options.mode.chained_assignment = None\n",
        "sns.set(style = 'whitegrid')\n",
        "import textwrap"
      ],
      "metadata": {
        "id": "hAb0iLxs0iYU"
      },
      "execution_count": 35,
      "outputs": []
    },
    {
      "cell_type": "code",
      "source": [
        "df = pd.read_csv(\"AllstarFull.csv\")\n",
        "df"
      ],
      "metadata": {
        "colab": {
          "base_uri": "https://localhost:8080/",
          "height": 423
        },
        "id": "I4TlGGid0mot",
        "outputId": "f70787a2-41b9-41b0-d902-8818f50f15cb"
      },
      "execution_count": 36,
      "outputs": [
        {
          "output_type": "execute_result",
          "data": {
            "text/plain": [
              "       playerID  yearID  gameNum        gameID teamID lgID   GP  startingPos\n",
              "0     gomezle01    1933        0  ALS193307060    NYA   AL  1.0          1.0\n",
              "1     ferreri01    1933        0  ALS193307060    BOS   AL  1.0          2.0\n",
              "2     gehrilo01    1933        0  ALS193307060    NYA   AL  1.0          3.0\n",
              "3     gehrich01    1933        0  ALS193307060    DET   AL  1.0          4.0\n",
              "4     dykesji01    1933        0  ALS193307060    CHA   AL  1.0          5.0\n",
              "...         ...     ...      ...           ...    ...  ...  ...          ...\n",
              "5064  boxbebr01    2015        0  NLS201507155    TBA   AL  NaN          NaN\n",
              "5065  gordoal01    2015        0  NLS201507156    KCA   AL  NaN          NaN\n",
              "5066  herreke01    2015        0  NLS201507157    KCA   AL  NaN          NaN\n",
              "5067  cabremi01    2015        0  NLS201507158    DET   AL  NaN          NaN\n",
              "5068   salech01    2015        0  NLS201507159    CHA   AL  NaN          NaN\n",
              "\n",
              "[5069 rows x 8 columns]"
            ],
            "text/html": [
              "\n",
              "  <div id=\"df-09c8432d-7de8-4646-b901-4d81625c07ff\">\n",
              "    <div class=\"colab-df-container\">\n",
              "      <div>\n",
              "<style scoped>\n",
              "    .dataframe tbody tr th:only-of-type {\n",
              "        vertical-align: middle;\n",
              "    }\n",
              "\n",
              "    .dataframe tbody tr th {\n",
              "        vertical-align: top;\n",
              "    }\n",
              "\n",
              "    .dataframe thead th {\n",
              "        text-align: right;\n",
              "    }\n",
              "</style>\n",
              "<table border=\"1\" class=\"dataframe\">\n",
              "  <thead>\n",
              "    <tr style=\"text-align: right;\">\n",
              "      <th></th>\n",
              "      <th>playerID</th>\n",
              "      <th>yearID</th>\n",
              "      <th>gameNum</th>\n",
              "      <th>gameID</th>\n",
              "      <th>teamID</th>\n",
              "      <th>lgID</th>\n",
              "      <th>GP</th>\n",
              "      <th>startingPos</th>\n",
              "    </tr>\n",
              "  </thead>\n",
              "  <tbody>\n",
              "    <tr>\n",
              "      <th>0</th>\n",
              "      <td>gomezle01</td>\n",
              "      <td>1933</td>\n",
              "      <td>0</td>\n",
              "      <td>ALS193307060</td>\n",
              "      <td>NYA</td>\n",
              "      <td>AL</td>\n",
              "      <td>1.0</td>\n",
              "      <td>1.0</td>\n",
              "    </tr>\n",
              "    <tr>\n",
              "      <th>1</th>\n",
              "      <td>ferreri01</td>\n",
              "      <td>1933</td>\n",
              "      <td>0</td>\n",
              "      <td>ALS193307060</td>\n",
              "      <td>BOS</td>\n",
              "      <td>AL</td>\n",
              "      <td>1.0</td>\n",
              "      <td>2.0</td>\n",
              "    </tr>\n",
              "    <tr>\n",
              "      <th>2</th>\n",
              "      <td>gehrilo01</td>\n",
              "      <td>1933</td>\n",
              "      <td>0</td>\n",
              "      <td>ALS193307060</td>\n",
              "      <td>NYA</td>\n",
              "      <td>AL</td>\n",
              "      <td>1.0</td>\n",
              "      <td>3.0</td>\n",
              "    </tr>\n",
              "    <tr>\n",
              "      <th>3</th>\n",
              "      <td>gehrich01</td>\n",
              "      <td>1933</td>\n",
              "      <td>0</td>\n",
              "      <td>ALS193307060</td>\n",
              "      <td>DET</td>\n",
              "      <td>AL</td>\n",
              "      <td>1.0</td>\n",
              "      <td>4.0</td>\n",
              "    </tr>\n",
              "    <tr>\n",
              "      <th>4</th>\n",
              "      <td>dykesji01</td>\n",
              "      <td>1933</td>\n",
              "      <td>0</td>\n",
              "      <td>ALS193307060</td>\n",
              "      <td>CHA</td>\n",
              "      <td>AL</td>\n",
              "      <td>1.0</td>\n",
              "      <td>5.0</td>\n",
              "    </tr>\n",
              "    <tr>\n",
              "      <th>...</th>\n",
              "      <td>...</td>\n",
              "      <td>...</td>\n",
              "      <td>...</td>\n",
              "      <td>...</td>\n",
              "      <td>...</td>\n",
              "      <td>...</td>\n",
              "      <td>...</td>\n",
              "      <td>...</td>\n",
              "    </tr>\n",
              "    <tr>\n",
              "      <th>5064</th>\n",
              "      <td>boxbebr01</td>\n",
              "      <td>2015</td>\n",
              "      <td>0</td>\n",
              "      <td>NLS201507155</td>\n",
              "      <td>TBA</td>\n",
              "      <td>AL</td>\n",
              "      <td>NaN</td>\n",
              "      <td>NaN</td>\n",
              "    </tr>\n",
              "    <tr>\n",
              "      <th>5065</th>\n",
              "      <td>gordoal01</td>\n",
              "      <td>2015</td>\n",
              "      <td>0</td>\n",
              "      <td>NLS201507156</td>\n",
              "      <td>KCA</td>\n",
              "      <td>AL</td>\n",
              "      <td>NaN</td>\n",
              "      <td>NaN</td>\n",
              "    </tr>\n",
              "    <tr>\n",
              "      <th>5066</th>\n",
              "      <td>herreke01</td>\n",
              "      <td>2015</td>\n",
              "      <td>0</td>\n",
              "      <td>NLS201507157</td>\n",
              "      <td>KCA</td>\n",
              "      <td>AL</td>\n",
              "      <td>NaN</td>\n",
              "      <td>NaN</td>\n",
              "    </tr>\n",
              "    <tr>\n",
              "      <th>5067</th>\n",
              "      <td>cabremi01</td>\n",
              "      <td>2015</td>\n",
              "      <td>0</td>\n",
              "      <td>NLS201507158</td>\n",
              "      <td>DET</td>\n",
              "      <td>AL</td>\n",
              "      <td>NaN</td>\n",
              "      <td>NaN</td>\n",
              "    </tr>\n",
              "    <tr>\n",
              "      <th>5068</th>\n",
              "      <td>salech01</td>\n",
              "      <td>2015</td>\n",
              "      <td>0</td>\n",
              "      <td>NLS201507159</td>\n",
              "      <td>CHA</td>\n",
              "      <td>AL</td>\n",
              "      <td>NaN</td>\n",
              "      <td>NaN</td>\n",
              "    </tr>\n",
              "  </tbody>\n",
              "</table>\n",
              "<p>5069 rows × 8 columns</p>\n",
              "</div>\n",
              "      <button class=\"colab-df-convert\" onclick=\"convertToInteractive('df-09c8432d-7de8-4646-b901-4d81625c07ff')\"\n",
              "              title=\"Convert this dataframe to an interactive table.\"\n",
              "              style=\"display:none;\">\n",
              "        \n",
              "  <svg xmlns=\"http://www.w3.org/2000/svg\" height=\"24px\"viewBox=\"0 0 24 24\"\n",
              "       width=\"24px\">\n",
              "    <path d=\"M0 0h24v24H0V0z\" fill=\"none\"/>\n",
              "    <path d=\"M18.56 5.44l.94 2.06.94-2.06 2.06-.94-2.06-.94-.94-2.06-.94 2.06-2.06.94zm-11 1L8.5 8.5l.94-2.06 2.06-.94-2.06-.94L8.5 2.5l-.94 2.06-2.06.94zm10 10l.94 2.06.94-2.06 2.06-.94-2.06-.94-.94-2.06-.94 2.06-2.06.94z\"/><path d=\"M17.41 7.96l-1.37-1.37c-.4-.4-.92-.59-1.43-.59-.52 0-1.04.2-1.43.59L10.3 9.45l-7.72 7.72c-.78.78-.78 2.05 0 2.83L4 21.41c.39.39.9.59 1.41.59.51 0 1.02-.2 1.41-.59l7.78-7.78 2.81-2.81c.8-.78.8-2.07 0-2.86zM5.41 20L4 18.59l7.72-7.72 1.47 1.35L5.41 20z\"/>\n",
              "  </svg>\n",
              "      </button>\n",
              "      \n",
              "  <style>\n",
              "    .colab-df-container {\n",
              "      display:flex;\n",
              "      flex-wrap:wrap;\n",
              "      gap: 12px;\n",
              "    }\n",
              "\n",
              "    .colab-df-convert {\n",
              "      background-color: #E8F0FE;\n",
              "      border: none;\n",
              "      border-radius: 50%;\n",
              "      cursor: pointer;\n",
              "      display: none;\n",
              "      fill: #1967D2;\n",
              "      height: 32px;\n",
              "      padding: 0 0 0 0;\n",
              "      width: 32px;\n",
              "    }\n",
              "\n",
              "    .colab-df-convert:hover {\n",
              "      background-color: #E2EBFA;\n",
              "      box-shadow: 0px 1px 2px rgba(60, 64, 67, 0.3), 0px 1px 3px 1px rgba(60, 64, 67, 0.15);\n",
              "      fill: #174EA6;\n",
              "    }\n",
              "\n",
              "    [theme=dark] .colab-df-convert {\n",
              "      background-color: #3B4455;\n",
              "      fill: #D2E3FC;\n",
              "    }\n",
              "\n",
              "    [theme=dark] .colab-df-convert:hover {\n",
              "      background-color: #434B5C;\n",
              "      box-shadow: 0px 1px 3px 1px rgba(0, 0, 0, 0.15);\n",
              "      filter: drop-shadow(0px 1px 2px rgba(0, 0, 0, 0.3));\n",
              "      fill: #FFFFFF;\n",
              "    }\n",
              "  </style>\n",
              "\n",
              "      <script>\n",
              "        const buttonEl =\n",
              "          document.querySelector('#df-09c8432d-7de8-4646-b901-4d81625c07ff button.colab-df-convert');\n",
              "        buttonEl.style.display =\n",
              "          google.colab.kernel.accessAllowed ? 'block' : 'none';\n",
              "\n",
              "        async function convertToInteractive(key) {\n",
              "          const element = document.querySelector('#df-09c8432d-7de8-4646-b901-4d81625c07ff');\n",
              "          const dataTable =\n",
              "            await google.colab.kernel.invokeFunction('convertToInteractive',\n",
              "                                                     [key], {});\n",
              "          if (!dataTable) return;\n",
              "\n",
              "          const docLinkHtml = 'Like what you see? Visit the ' +\n",
              "            '<a target=\"_blank\" href=https://colab.research.google.com/notebooks/data_table.ipynb>data table notebook</a>'\n",
              "            + ' to learn more about interactive tables.';\n",
              "          element.innerHTML = '';\n",
              "          dataTable['output_type'] = 'display_data';\n",
              "          await google.colab.output.renderOutput(dataTable, element);\n",
              "          const docLink = document.createElement('div');\n",
              "          docLink.innerHTML = docLinkHtml;\n",
              "          element.appendChild(docLink);\n",
              "        }\n",
              "      </script>\n",
              "    </div>\n",
              "  </div>\n",
              "  "
            ]
          },
          "metadata": {},
          "execution_count": 36
        }
      ]
    },
    {
      "cell_type": "code",
      "source": [
        "df.head()"
      ],
      "metadata": {
        "colab": {
          "base_uri": "https://localhost:8080/",
          "height": 206
        },
        "id": "Iqs4SHoi0_pv",
        "outputId": "ea6693c6-d38b-4544-8d84-670d322e455c"
      },
      "execution_count": 37,
      "outputs": [
        {
          "output_type": "execute_result",
          "data": {
            "text/plain": [
              "    playerID  yearID  gameNum        gameID teamID lgID   GP  startingPos\n",
              "0  gomezle01    1933        0  ALS193307060    NYA   AL  1.0          1.0\n",
              "1  ferreri01    1933        0  ALS193307060    BOS   AL  1.0          2.0\n",
              "2  gehrilo01    1933        0  ALS193307060    NYA   AL  1.0          3.0\n",
              "3  gehrich01    1933        0  ALS193307060    DET   AL  1.0          4.0\n",
              "4  dykesji01    1933        0  ALS193307060    CHA   AL  1.0          5.0"
            ],
            "text/html": [
              "\n",
              "  <div id=\"df-13f78433-71eb-4a9d-8609-5908aa584f82\">\n",
              "    <div class=\"colab-df-container\">\n",
              "      <div>\n",
              "<style scoped>\n",
              "    .dataframe tbody tr th:only-of-type {\n",
              "        vertical-align: middle;\n",
              "    }\n",
              "\n",
              "    .dataframe tbody tr th {\n",
              "        vertical-align: top;\n",
              "    }\n",
              "\n",
              "    .dataframe thead th {\n",
              "        text-align: right;\n",
              "    }\n",
              "</style>\n",
              "<table border=\"1\" class=\"dataframe\">\n",
              "  <thead>\n",
              "    <tr style=\"text-align: right;\">\n",
              "      <th></th>\n",
              "      <th>playerID</th>\n",
              "      <th>yearID</th>\n",
              "      <th>gameNum</th>\n",
              "      <th>gameID</th>\n",
              "      <th>teamID</th>\n",
              "      <th>lgID</th>\n",
              "      <th>GP</th>\n",
              "      <th>startingPos</th>\n",
              "    </tr>\n",
              "  </thead>\n",
              "  <tbody>\n",
              "    <tr>\n",
              "      <th>0</th>\n",
              "      <td>gomezle01</td>\n",
              "      <td>1933</td>\n",
              "      <td>0</td>\n",
              "      <td>ALS193307060</td>\n",
              "      <td>NYA</td>\n",
              "      <td>AL</td>\n",
              "      <td>1.0</td>\n",
              "      <td>1.0</td>\n",
              "    </tr>\n",
              "    <tr>\n",
              "      <th>1</th>\n",
              "      <td>ferreri01</td>\n",
              "      <td>1933</td>\n",
              "      <td>0</td>\n",
              "      <td>ALS193307060</td>\n",
              "      <td>BOS</td>\n",
              "      <td>AL</td>\n",
              "      <td>1.0</td>\n",
              "      <td>2.0</td>\n",
              "    </tr>\n",
              "    <tr>\n",
              "      <th>2</th>\n",
              "      <td>gehrilo01</td>\n",
              "      <td>1933</td>\n",
              "      <td>0</td>\n",
              "      <td>ALS193307060</td>\n",
              "      <td>NYA</td>\n",
              "      <td>AL</td>\n",
              "      <td>1.0</td>\n",
              "      <td>3.0</td>\n",
              "    </tr>\n",
              "    <tr>\n",
              "      <th>3</th>\n",
              "      <td>gehrich01</td>\n",
              "      <td>1933</td>\n",
              "      <td>0</td>\n",
              "      <td>ALS193307060</td>\n",
              "      <td>DET</td>\n",
              "      <td>AL</td>\n",
              "      <td>1.0</td>\n",
              "      <td>4.0</td>\n",
              "    </tr>\n",
              "    <tr>\n",
              "      <th>4</th>\n",
              "      <td>dykesji01</td>\n",
              "      <td>1933</td>\n",
              "      <td>0</td>\n",
              "      <td>ALS193307060</td>\n",
              "      <td>CHA</td>\n",
              "      <td>AL</td>\n",
              "      <td>1.0</td>\n",
              "      <td>5.0</td>\n",
              "    </tr>\n",
              "  </tbody>\n",
              "</table>\n",
              "</div>\n",
              "      <button class=\"colab-df-convert\" onclick=\"convertToInteractive('df-13f78433-71eb-4a9d-8609-5908aa584f82')\"\n",
              "              title=\"Convert this dataframe to an interactive table.\"\n",
              "              style=\"display:none;\">\n",
              "        \n",
              "  <svg xmlns=\"http://www.w3.org/2000/svg\" height=\"24px\"viewBox=\"0 0 24 24\"\n",
              "       width=\"24px\">\n",
              "    <path d=\"M0 0h24v24H0V0z\" fill=\"none\"/>\n",
              "    <path d=\"M18.56 5.44l.94 2.06.94-2.06 2.06-.94-2.06-.94-.94-2.06-.94 2.06-2.06.94zm-11 1L8.5 8.5l.94-2.06 2.06-.94-2.06-.94L8.5 2.5l-.94 2.06-2.06.94zm10 10l.94 2.06.94-2.06 2.06-.94-2.06-.94-.94-2.06-.94 2.06-2.06.94z\"/><path d=\"M17.41 7.96l-1.37-1.37c-.4-.4-.92-.59-1.43-.59-.52 0-1.04.2-1.43.59L10.3 9.45l-7.72 7.72c-.78.78-.78 2.05 0 2.83L4 21.41c.39.39.9.59 1.41.59.51 0 1.02-.2 1.41-.59l7.78-7.78 2.81-2.81c.8-.78.8-2.07 0-2.86zM5.41 20L4 18.59l7.72-7.72 1.47 1.35L5.41 20z\"/>\n",
              "  </svg>\n",
              "      </button>\n",
              "      \n",
              "  <style>\n",
              "    .colab-df-container {\n",
              "      display:flex;\n",
              "      flex-wrap:wrap;\n",
              "      gap: 12px;\n",
              "    }\n",
              "\n",
              "    .colab-df-convert {\n",
              "      background-color: #E8F0FE;\n",
              "      border: none;\n",
              "      border-radius: 50%;\n",
              "      cursor: pointer;\n",
              "      display: none;\n",
              "      fill: #1967D2;\n",
              "      height: 32px;\n",
              "      padding: 0 0 0 0;\n",
              "      width: 32px;\n",
              "    }\n",
              "\n",
              "    .colab-df-convert:hover {\n",
              "      background-color: #E2EBFA;\n",
              "      box-shadow: 0px 1px 2px rgba(60, 64, 67, 0.3), 0px 1px 3px 1px rgba(60, 64, 67, 0.15);\n",
              "      fill: #174EA6;\n",
              "    }\n",
              "\n",
              "    [theme=dark] .colab-df-convert {\n",
              "      background-color: #3B4455;\n",
              "      fill: #D2E3FC;\n",
              "    }\n",
              "\n",
              "    [theme=dark] .colab-df-convert:hover {\n",
              "      background-color: #434B5C;\n",
              "      box-shadow: 0px 1px 3px 1px rgba(0, 0, 0, 0.15);\n",
              "      filter: drop-shadow(0px 1px 2px rgba(0, 0, 0, 0.3));\n",
              "      fill: #FFFFFF;\n",
              "    }\n",
              "  </style>\n",
              "\n",
              "      <script>\n",
              "        const buttonEl =\n",
              "          document.querySelector('#df-13f78433-71eb-4a9d-8609-5908aa584f82 button.colab-df-convert');\n",
              "        buttonEl.style.display =\n",
              "          google.colab.kernel.accessAllowed ? 'block' : 'none';\n",
              "\n",
              "        async function convertToInteractive(key) {\n",
              "          const element = document.querySelector('#df-13f78433-71eb-4a9d-8609-5908aa584f82');\n",
              "          const dataTable =\n",
              "            await google.colab.kernel.invokeFunction('convertToInteractive',\n",
              "                                                     [key], {});\n",
              "          if (!dataTable) return;\n",
              "\n",
              "          const docLinkHtml = 'Like what you see? Visit the ' +\n",
              "            '<a target=\"_blank\" href=https://colab.research.google.com/notebooks/data_table.ipynb>data table notebook</a>'\n",
              "            + ' to learn more about interactive tables.';\n",
              "          element.innerHTML = '';\n",
              "          dataTable['output_type'] = 'display_data';\n",
              "          await google.colab.output.renderOutput(dataTable, element);\n",
              "          const docLink = document.createElement('div');\n",
              "          docLink.innerHTML = docLinkHtml;\n",
              "          element.appendChild(docLink);\n",
              "        }\n",
              "      </script>\n",
              "    </div>\n",
              "  </div>\n",
              "  "
            ]
          },
          "metadata": {},
          "execution_count": 37
        }
      ]
    },
    {
      "cell_type": "code",
      "source": [
        "df.tail()"
      ],
      "metadata": {
        "colab": {
          "base_uri": "https://localhost:8080/",
          "height": 206
        },
        "id": "AhBZ-imu1BYI",
        "outputId": "db8e863c-9a12-4d8d-84f1-ecde1d8ff5d4"
      },
      "execution_count": 38,
      "outputs": [
        {
          "output_type": "execute_result",
          "data": {
            "text/plain": [
              "       playerID  yearID  gameNum        gameID teamID lgID  GP  startingPos\n",
              "5064  boxbebr01    2015        0  NLS201507155    TBA   AL NaN          NaN\n",
              "5065  gordoal01    2015        0  NLS201507156    KCA   AL NaN          NaN\n",
              "5066  herreke01    2015        0  NLS201507157    KCA   AL NaN          NaN\n",
              "5067  cabremi01    2015        0  NLS201507158    DET   AL NaN          NaN\n",
              "5068   salech01    2015        0  NLS201507159    CHA   AL NaN          NaN"
            ],
            "text/html": [
              "\n",
              "  <div id=\"df-ba03923d-1fa3-475e-8681-bd590073f565\">\n",
              "    <div class=\"colab-df-container\">\n",
              "      <div>\n",
              "<style scoped>\n",
              "    .dataframe tbody tr th:only-of-type {\n",
              "        vertical-align: middle;\n",
              "    }\n",
              "\n",
              "    .dataframe tbody tr th {\n",
              "        vertical-align: top;\n",
              "    }\n",
              "\n",
              "    .dataframe thead th {\n",
              "        text-align: right;\n",
              "    }\n",
              "</style>\n",
              "<table border=\"1\" class=\"dataframe\">\n",
              "  <thead>\n",
              "    <tr style=\"text-align: right;\">\n",
              "      <th></th>\n",
              "      <th>playerID</th>\n",
              "      <th>yearID</th>\n",
              "      <th>gameNum</th>\n",
              "      <th>gameID</th>\n",
              "      <th>teamID</th>\n",
              "      <th>lgID</th>\n",
              "      <th>GP</th>\n",
              "      <th>startingPos</th>\n",
              "    </tr>\n",
              "  </thead>\n",
              "  <tbody>\n",
              "    <tr>\n",
              "      <th>5064</th>\n",
              "      <td>boxbebr01</td>\n",
              "      <td>2015</td>\n",
              "      <td>0</td>\n",
              "      <td>NLS201507155</td>\n",
              "      <td>TBA</td>\n",
              "      <td>AL</td>\n",
              "      <td>NaN</td>\n",
              "      <td>NaN</td>\n",
              "    </tr>\n",
              "    <tr>\n",
              "      <th>5065</th>\n",
              "      <td>gordoal01</td>\n",
              "      <td>2015</td>\n",
              "      <td>0</td>\n",
              "      <td>NLS201507156</td>\n",
              "      <td>KCA</td>\n",
              "      <td>AL</td>\n",
              "      <td>NaN</td>\n",
              "      <td>NaN</td>\n",
              "    </tr>\n",
              "    <tr>\n",
              "      <th>5066</th>\n",
              "      <td>herreke01</td>\n",
              "      <td>2015</td>\n",
              "      <td>0</td>\n",
              "      <td>NLS201507157</td>\n",
              "      <td>KCA</td>\n",
              "      <td>AL</td>\n",
              "      <td>NaN</td>\n",
              "      <td>NaN</td>\n",
              "    </tr>\n",
              "    <tr>\n",
              "      <th>5067</th>\n",
              "      <td>cabremi01</td>\n",
              "      <td>2015</td>\n",
              "      <td>0</td>\n",
              "      <td>NLS201507158</td>\n",
              "      <td>DET</td>\n",
              "      <td>AL</td>\n",
              "      <td>NaN</td>\n",
              "      <td>NaN</td>\n",
              "    </tr>\n",
              "    <tr>\n",
              "      <th>5068</th>\n",
              "      <td>salech01</td>\n",
              "      <td>2015</td>\n",
              "      <td>0</td>\n",
              "      <td>NLS201507159</td>\n",
              "      <td>CHA</td>\n",
              "      <td>AL</td>\n",
              "      <td>NaN</td>\n",
              "      <td>NaN</td>\n",
              "    </tr>\n",
              "  </tbody>\n",
              "</table>\n",
              "</div>\n",
              "      <button class=\"colab-df-convert\" onclick=\"convertToInteractive('df-ba03923d-1fa3-475e-8681-bd590073f565')\"\n",
              "              title=\"Convert this dataframe to an interactive table.\"\n",
              "              style=\"display:none;\">\n",
              "        \n",
              "  <svg xmlns=\"http://www.w3.org/2000/svg\" height=\"24px\"viewBox=\"0 0 24 24\"\n",
              "       width=\"24px\">\n",
              "    <path d=\"M0 0h24v24H0V0z\" fill=\"none\"/>\n",
              "    <path d=\"M18.56 5.44l.94 2.06.94-2.06 2.06-.94-2.06-.94-.94-2.06-.94 2.06-2.06.94zm-11 1L8.5 8.5l.94-2.06 2.06-.94-2.06-.94L8.5 2.5l-.94 2.06-2.06.94zm10 10l.94 2.06.94-2.06 2.06-.94-2.06-.94-.94-2.06-.94 2.06-2.06.94z\"/><path d=\"M17.41 7.96l-1.37-1.37c-.4-.4-.92-.59-1.43-.59-.52 0-1.04.2-1.43.59L10.3 9.45l-7.72 7.72c-.78.78-.78 2.05 0 2.83L4 21.41c.39.39.9.59 1.41.59.51 0 1.02-.2 1.41-.59l7.78-7.78 2.81-2.81c.8-.78.8-2.07 0-2.86zM5.41 20L4 18.59l7.72-7.72 1.47 1.35L5.41 20z\"/>\n",
              "  </svg>\n",
              "      </button>\n",
              "      \n",
              "  <style>\n",
              "    .colab-df-container {\n",
              "      display:flex;\n",
              "      flex-wrap:wrap;\n",
              "      gap: 12px;\n",
              "    }\n",
              "\n",
              "    .colab-df-convert {\n",
              "      background-color: #E8F0FE;\n",
              "      border: none;\n",
              "      border-radius: 50%;\n",
              "      cursor: pointer;\n",
              "      display: none;\n",
              "      fill: #1967D2;\n",
              "      height: 32px;\n",
              "      padding: 0 0 0 0;\n",
              "      width: 32px;\n",
              "    }\n",
              "\n",
              "    .colab-df-convert:hover {\n",
              "      background-color: #E2EBFA;\n",
              "      box-shadow: 0px 1px 2px rgba(60, 64, 67, 0.3), 0px 1px 3px 1px rgba(60, 64, 67, 0.15);\n",
              "      fill: #174EA6;\n",
              "    }\n",
              "\n",
              "    [theme=dark] .colab-df-convert {\n",
              "      background-color: #3B4455;\n",
              "      fill: #D2E3FC;\n",
              "    }\n",
              "\n",
              "    [theme=dark] .colab-df-convert:hover {\n",
              "      background-color: #434B5C;\n",
              "      box-shadow: 0px 1px 3px 1px rgba(0, 0, 0, 0.15);\n",
              "      filter: drop-shadow(0px 1px 2px rgba(0, 0, 0, 0.3));\n",
              "      fill: #FFFFFF;\n",
              "    }\n",
              "  </style>\n",
              "\n",
              "      <script>\n",
              "        const buttonEl =\n",
              "          document.querySelector('#df-ba03923d-1fa3-475e-8681-bd590073f565 button.colab-df-convert');\n",
              "        buttonEl.style.display =\n",
              "          google.colab.kernel.accessAllowed ? 'block' : 'none';\n",
              "\n",
              "        async function convertToInteractive(key) {\n",
              "          const element = document.querySelector('#df-ba03923d-1fa3-475e-8681-bd590073f565');\n",
              "          const dataTable =\n",
              "            await google.colab.kernel.invokeFunction('convertToInteractive',\n",
              "                                                     [key], {});\n",
              "          if (!dataTable) return;\n",
              "\n",
              "          const docLinkHtml = 'Like what you see? Visit the ' +\n",
              "            '<a target=\"_blank\" href=https://colab.research.google.com/notebooks/data_table.ipynb>data table notebook</a>'\n",
              "            + ' to learn more about interactive tables.';\n",
              "          element.innerHTML = '';\n",
              "          dataTable['output_type'] = 'display_data';\n",
              "          await google.colab.output.renderOutput(dataTable, element);\n",
              "          const docLink = document.createElement('div');\n",
              "          docLink.innerHTML = docLinkHtml;\n",
              "          element.appendChild(docLink);\n",
              "        }\n",
              "      </script>\n",
              "    </div>\n",
              "  </div>\n",
              "  "
            ]
          },
          "metadata": {},
          "execution_count": 38
        }
      ]
    },
    {
      "cell_type": "code",
      "source": [
        "# df1 isinya dataset dengan label target boxbebr01\n",
        "df1 = df[df['playerID'] == 'boxbebr01']\n",
        "\n",
        "# Menampilkan hasil filter\n",
        "print(df1)"
      ],
      "metadata": {
        "colab": {
          "base_uri": "https://localhost:8080/"
        },
        "id": "2M5U_Eum1F2t",
        "outputId": "46e304da-f60e-4d22-f1e9-9acd1001812c"
      },
      "execution_count": 39,
      "outputs": [
        {
          "output_type": "stream",
          "name": "stdout",
          "text": [
            "       playerID  yearID  gameNum        gameID teamID lgID  GP  startingPos\n",
            "5064  boxbebr01    2015        0  NLS201507155    TBA   AL NaN          NaN\n"
          ]
        }
      ]
    },
    {
      "cell_type": "code",
      "source": [
        "# df2 isinya dataset dengan label target bukan KCA\n",
        "df2 = df[df['teamID'] != 'KCA']\n",
        "\n",
        "# Menampilkan hasil filter\n",
        "print(df2)"
      ],
      "metadata": {
        "colab": {
          "base_uri": "https://localhost:8080/"
        },
        "id": "MK1bgb8G1k40",
        "outputId": "a6c8ffe2-1687-4600-c842-06723a1d9c70"
      },
      "execution_count": 40,
      "outputs": [
        {
          "output_type": "stream",
          "name": "stdout",
          "text": [
            "       playerID  yearID  gameNum        gameID teamID lgID   GP  startingPos\n",
            "0     gomezle01    1933        0  ALS193307060    NYA   AL  1.0          1.0\n",
            "1     ferreri01    1933        0  ALS193307060    BOS   AL  1.0          2.0\n",
            "2     gehrilo01    1933        0  ALS193307060    NYA   AL  1.0          3.0\n",
            "3     gehrich01    1933        0  ALS193307060    DET   AL  1.0          4.0\n",
            "4     dykesji01    1933        0  ALS193307060    CHA   AL  1.0          5.0\n",
            "...         ...     ...      ...           ...    ...  ...  ...          ...\n",
            "5062  papeljo01    2015        0  NLS201507153    PHI   NL  NaN          NaN\n",
            "5063  burneaj01    2015        0  NLS201507154    PIT   NL  NaN          NaN\n",
            "5064  boxbebr01    2015        0  NLS201507155    TBA   AL  NaN          NaN\n",
            "5067  cabremi01    2015        0  NLS201507158    DET   AL  NaN          NaN\n",
            "5068   salech01    2015        0  NLS201507159    CHA   AL  NaN          NaN\n",
            "\n",
            "[4976 rows x 8 columns]\n"
          ]
        }
      ]
    },
    {
      "cell_type": "code",
      "source": [
        "# df3 isinya dataset dengan label target gomezle01\n",
        "df3 = df[df['playerID'] == 'gomezle01']\n",
        "\n",
        "# Menampilkan hasil filter\n",
        "print(df3)"
      ],
      "metadata": {
        "colab": {
          "base_uri": "https://localhost:8080/"
        },
        "id": "HfVHn_lG13bA",
        "outputId": "a88d6e34-1e6b-4e4d-df5b-4bb4f627cb2f"
      },
      "execution_count": 41,
      "outputs": [
        {
          "output_type": "stream",
          "name": "stdout",
          "text": [
            "      playerID  yearID  gameNum        gameID teamID lgID   GP  startingPos\n",
            "0    gomezle01    1933        0  ALS193307060    NYA   AL  1.0          1.0\n",
            "36   gomezle01    1934        0  NLS193407100    NYA   AL  1.0          1.0\n",
            "77   gomezle01    1935        0  ALS193507080    NYA   AL  1.0          1.0\n",
            "132  gomezle01    1936        0  NLS193607070    NYA   AL  0.0          NaN\n",
            "161  gomezle01    1937        0  ALS193707070    NYA   AL  1.0          1.0\n",
            "209  gomezle01    1938        0  NLS193807060    NYA   AL  1.0          1.0\n",
            "273  gomezle01    1939        0  ALS193907110    NYA   AL  0.0          NaN\n"
          ]
        }
      ]
    },
    {
      "cell_type": "code",
      "source": [
        "# df4 isinya dataset dengan label target yearID di bawah tahun 2000\n",
        "df4 = df[df['yearID'] < 2000]\n",
        "\n",
        "# Menampilkan hasil filter\n",
        "print(df4)"
      ],
      "metadata": {
        "colab": {
          "base_uri": "https://localhost:8080/"
        },
        "id": "mMAQtntT2TbC",
        "outputId": "0f68b28e-da20-4431-9306-563d027f2884"
      },
      "execution_count": 42,
      "outputs": [
        {
          "output_type": "stream",
          "name": "stdout",
          "text": [
            "       playerID  yearID  gameNum        gameID teamID lgID   GP  startingPos\n",
            "0     gomezle01    1933        0  ALS193307060    NYA   AL  1.0          1.0\n",
            "1     ferreri01    1933        0  ALS193307060    BOS   AL  1.0          2.0\n",
            "2     gehrilo01    1933        0  ALS193307060    NYA   AL  1.0          3.0\n",
            "3     gehrich01    1933        0  ALS193307060    DET   AL  1.0          4.0\n",
            "4     dykesji01    1933        0  ALS193307060    CHA   AL  1.0          5.0\n",
            "...         ...     ...      ...           ...    ...  ...  ...          ...\n",
            "3911  nilssda01    1999        0  ALS199907130    MIL   NL  1.0          NaN\n",
            "3912  sheffga01    1999        0  ALS199907130    LAN   NL  1.0          NaN\n",
            "3913  spraged02    1999        0  ALS199907130    PIT   NL  1.0          NaN\n",
            "3914  wagnebi02    1999        0  ALS199907130    HOU   NL  1.0          NaN\n",
            "3915  willisc01    1999        0  ALS199907130    CIN   NL  0.0          NaN\n",
            "\n",
            "[3916 rows x 8 columns]\n"
          ]
        }
      ]
    },
    {
      "cell_type": "code",
      "source": [
        "df.info()"
      ],
      "metadata": {
        "colab": {
          "base_uri": "https://localhost:8080/"
        },
        "id": "kJ3ycDZR2kMC",
        "outputId": "aab28764-8685-4ce8-f667-aa609fc00dbb"
      },
      "execution_count": 43,
      "outputs": [
        {
          "output_type": "stream",
          "name": "stdout",
          "text": [
            "<class 'pandas.core.frame.DataFrame'>\n",
            "RangeIndex: 5069 entries, 0 to 5068\n",
            "Data columns (total 8 columns):\n",
            " #   Column       Non-Null Count  Dtype  \n",
            "---  ------       --------------  -----  \n",
            " 0   playerID     5069 non-null   object \n",
            " 1   yearID       5069 non-null   int64  \n",
            " 2   gameNum      5069 non-null   int64  \n",
            " 3   gameID       5020 non-null   object \n",
            " 4   teamID       5069 non-null   object \n",
            " 5   lgID         5069 non-null   object \n",
            " 6   GP           5050 non-null   float64\n",
            " 7   startingPos  1580 non-null   float64\n",
            "dtypes: float64(2), int64(2), object(4)\n",
            "memory usage: 316.9+ KB\n"
          ]
        }
      ]
    },
    {
      "cell_type": "code",
      "source": [
        "df.select_dtypes(include=np.number)"
      ],
      "metadata": {
        "colab": {
          "base_uri": "https://localhost:8080/",
          "height": 423
        },
        "id": "T1c9w1u12rDH",
        "outputId": "77bdd2be-3fa8-4d7b-ab35-cfb11feca5cb"
      },
      "execution_count": 44,
      "outputs": [
        {
          "output_type": "execute_result",
          "data": {
            "text/plain": [
              "      yearID  gameNum   GP  startingPos\n",
              "0       1933        0  1.0          1.0\n",
              "1       1933        0  1.0          2.0\n",
              "2       1933        0  1.0          3.0\n",
              "3       1933        0  1.0          4.0\n",
              "4       1933        0  1.0          5.0\n",
              "...      ...      ...  ...          ...\n",
              "5064    2015        0  NaN          NaN\n",
              "5065    2015        0  NaN          NaN\n",
              "5066    2015        0  NaN          NaN\n",
              "5067    2015        0  NaN          NaN\n",
              "5068    2015        0  NaN          NaN\n",
              "\n",
              "[5069 rows x 4 columns]"
            ],
            "text/html": [
              "\n",
              "  <div id=\"df-85502c9d-7ab2-4102-9d8e-69c2787d7229\">\n",
              "    <div class=\"colab-df-container\">\n",
              "      <div>\n",
              "<style scoped>\n",
              "    .dataframe tbody tr th:only-of-type {\n",
              "        vertical-align: middle;\n",
              "    }\n",
              "\n",
              "    .dataframe tbody tr th {\n",
              "        vertical-align: top;\n",
              "    }\n",
              "\n",
              "    .dataframe thead th {\n",
              "        text-align: right;\n",
              "    }\n",
              "</style>\n",
              "<table border=\"1\" class=\"dataframe\">\n",
              "  <thead>\n",
              "    <tr style=\"text-align: right;\">\n",
              "      <th></th>\n",
              "      <th>yearID</th>\n",
              "      <th>gameNum</th>\n",
              "      <th>GP</th>\n",
              "      <th>startingPos</th>\n",
              "    </tr>\n",
              "  </thead>\n",
              "  <tbody>\n",
              "    <tr>\n",
              "      <th>0</th>\n",
              "      <td>1933</td>\n",
              "      <td>0</td>\n",
              "      <td>1.0</td>\n",
              "      <td>1.0</td>\n",
              "    </tr>\n",
              "    <tr>\n",
              "      <th>1</th>\n",
              "      <td>1933</td>\n",
              "      <td>0</td>\n",
              "      <td>1.0</td>\n",
              "      <td>2.0</td>\n",
              "    </tr>\n",
              "    <tr>\n",
              "      <th>2</th>\n",
              "      <td>1933</td>\n",
              "      <td>0</td>\n",
              "      <td>1.0</td>\n",
              "      <td>3.0</td>\n",
              "    </tr>\n",
              "    <tr>\n",
              "      <th>3</th>\n",
              "      <td>1933</td>\n",
              "      <td>0</td>\n",
              "      <td>1.0</td>\n",
              "      <td>4.0</td>\n",
              "    </tr>\n",
              "    <tr>\n",
              "      <th>4</th>\n",
              "      <td>1933</td>\n",
              "      <td>0</td>\n",
              "      <td>1.0</td>\n",
              "      <td>5.0</td>\n",
              "    </tr>\n",
              "    <tr>\n",
              "      <th>...</th>\n",
              "      <td>...</td>\n",
              "      <td>...</td>\n",
              "      <td>...</td>\n",
              "      <td>...</td>\n",
              "    </tr>\n",
              "    <tr>\n",
              "      <th>5064</th>\n",
              "      <td>2015</td>\n",
              "      <td>0</td>\n",
              "      <td>NaN</td>\n",
              "      <td>NaN</td>\n",
              "    </tr>\n",
              "    <tr>\n",
              "      <th>5065</th>\n",
              "      <td>2015</td>\n",
              "      <td>0</td>\n",
              "      <td>NaN</td>\n",
              "      <td>NaN</td>\n",
              "    </tr>\n",
              "    <tr>\n",
              "      <th>5066</th>\n",
              "      <td>2015</td>\n",
              "      <td>0</td>\n",
              "      <td>NaN</td>\n",
              "      <td>NaN</td>\n",
              "    </tr>\n",
              "    <tr>\n",
              "      <th>5067</th>\n",
              "      <td>2015</td>\n",
              "      <td>0</td>\n",
              "      <td>NaN</td>\n",
              "      <td>NaN</td>\n",
              "    </tr>\n",
              "    <tr>\n",
              "      <th>5068</th>\n",
              "      <td>2015</td>\n",
              "      <td>0</td>\n",
              "      <td>NaN</td>\n",
              "      <td>NaN</td>\n",
              "    </tr>\n",
              "  </tbody>\n",
              "</table>\n",
              "<p>5069 rows × 4 columns</p>\n",
              "</div>\n",
              "      <button class=\"colab-df-convert\" onclick=\"convertToInteractive('df-85502c9d-7ab2-4102-9d8e-69c2787d7229')\"\n",
              "              title=\"Convert this dataframe to an interactive table.\"\n",
              "              style=\"display:none;\">\n",
              "        \n",
              "  <svg xmlns=\"http://www.w3.org/2000/svg\" height=\"24px\"viewBox=\"0 0 24 24\"\n",
              "       width=\"24px\">\n",
              "    <path d=\"M0 0h24v24H0V0z\" fill=\"none\"/>\n",
              "    <path d=\"M18.56 5.44l.94 2.06.94-2.06 2.06-.94-2.06-.94-.94-2.06-.94 2.06-2.06.94zm-11 1L8.5 8.5l.94-2.06 2.06-.94-2.06-.94L8.5 2.5l-.94 2.06-2.06.94zm10 10l.94 2.06.94-2.06 2.06-.94-2.06-.94-.94-2.06-.94 2.06-2.06.94z\"/><path d=\"M17.41 7.96l-1.37-1.37c-.4-.4-.92-.59-1.43-.59-.52 0-1.04.2-1.43.59L10.3 9.45l-7.72 7.72c-.78.78-.78 2.05 0 2.83L4 21.41c.39.39.9.59 1.41.59.51 0 1.02-.2 1.41-.59l7.78-7.78 2.81-2.81c.8-.78.8-2.07 0-2.86zM5.41 20L4 18.59l7.72-7.72 1.47 1.35L5.41 20z\"/>\n",
              "  </svg>\n",
              "      </button>\n",
              "      \n",
              "  <style>\n",
              "    .colab-df-container {\n",
              "      display:flex;\n",
              "      flex-wrap:wrap;\n",
              "      gap: 12px;\n",
              "    }\n",
              "\n",
              "    .colab-df-convert {\n",
              "      background-color: #E8F0FE;\n",
              "      border: none;\n",
              "      border-radius: 50%;\n",
              "      cursor: pointer;\n",
              "      display: none;\n",
              "      fill: #1967D2;\n",
              "      height: 32px;\n",
              "      padding: 0 0 0 0;\n",
              "      width: 32px;\n",
              "    }\n",
              "\n",
              "    .colab-df-convert:hover {\n",
              "      background-color: #E2EBFA;\n",
              "      box-shadow: 0px 1px 2px rgba(60, 64, 67, 0.3), 0px 1px 3px 1px rgba(60, 64, 67, 0.15);\n",
              "      fill: #174EA6;\n",
              "    }\n",
              "\n",
              "    [theme=dark] .colab-df-convert {\n",
              "      background-color: #3B4455;\n",
              "      fill: #D2E3FC;\n",
              "    }\n",
              "\n",
              "    [theme=dark] .colab-df-convert:hover {\n",
              "      background-color: #434B5C;\n",
              "      box-shadow: 0px 1px 3px 1px rgba(0, 0, 0, 0.15);\n",
              "      filter: drop-shadow(0px 1px 2px rgba(0, 0, 0, 0.3));\n",
              "      fill: #FFFFFF;\n",
              "    }\n",
              "  </style>\n",
              "\n",
              "      <script>\n",
              "        const buttonEl =\n",
              "          document.querySelector('#df-85502c9d-7ab2-4102-9d8e-69c2787d7229 button.colab-df-convert');\n",
              "        buttonEl.style.display =\n",
              "          google.colab.kernel.accessAllowed ? 'block' : 'none';\n",
              "\n",
              "        async function convertToInteractive(key) {\n",
              "          const element = document.querySelector('#df-85502c9d-7ab2-4102-9d8e-69c2787d7229');\n",
              "          const dataTable =\n",
              "            await google.colab.kernel.invokeFunction('convertToInteractive',\n",
              "                                                     [key], {});\n",
              "          if (!dataTable) return;\n",
              "\n",
              "          const docLinkHtml = 'Like what you see? Visit the ' +\n",
              "            '<a target=\"_blank\" href=https://colab.research.google.com/notebooks/data_table.ipynb>data table notebook</a>'\n",
              "            + ' to learn more about interactive tables.';\n",
              "          element.innerHTML = '';\n",
              "          dataTable['output_type'] = 'display_data';\n",
              "          await google.colab.output.renderOutput(dataTable, element);\n",
              "          const docLink = document.createElement('div');\n",
              "          docLink.innerHTML = docLinkHtml;\n",
              "          element.appendChild(docLink);\n",
              "        }\n",
              "      </script>\n",
              "    </div>\n",
              "  </div>\n",
              "  "
            ]
          },
          "metadata": {},
          "execution_count": 44
        }
      ]
    },
    {
      "cell_type": "code",
      "source": [
        "def tampil(kolom):\n",
        "  dfnum = df[kolom]\n",
        "\n",
        "  print(\"Nilai minimum         :\", dfnum.min())\n",
        "  print(\"Nilai maksimum        :\", dfnum.max())"
      ],
      "metadata": {
        "id": "nFq6PqWU2s35"
      },
      "execution_count": 45,
      "outputs": []
    },
    {
      "cell_type": "code",
      "source": [
        "tampil(\"playerID\")"
      ],
      "metadata": {
        "colab": {
          "base_uri": "https://localhost:8080/"
        },
        "id": "XTtKFekZ22Gy",
        "outputId": "9b80f460-3686-4dbe-b3cb-a8fef222cc53"
      },
      "execution_count": 46,
      "outputs": [
        {
          "output_type": "stream",
          "name": "stdout",
          "text": [
            "Nilai minimum         : aaronha01\n",
            "Nilai maksimum        : zobribe01\n"
          ]
        }
      ]
    },
    {
      "cell_type": "code",
      "source": [
        "tampil(\"yearID\")"
      ],
      "metadata": {
        "colab": {
          "base_uri": "https://localhost:8080/"
        },
        "id": "izDwcTkJ3BDy",
        "outputId": "2a1e679a-2273-4d9c-eb77-69395945b66f"
      },
      "execution_count": 47,
      "outputs": [
        {
          "output_type": "stream",
          "name": "stdout",
          "text": [
            "Nilai minimum         : 1933\n",
            "Nilai maksimum        : 2015\n"
          ]
        }
      ]
    },
    {
      "cell_type": "code",
      "source": [
        "tampil(\"GP\")"
      ],
      "metadata": {
        "colab": {
          "base_uri": "https://localhost:8080/"
        },
        "id": "EYtsraCm3RP1",
        "outputId": "1159930b-c14a-45fe-8f9d-af50f95d67e0"
      },
      "execution_count": 48,
      "outputs": [
        {
          "output_type": "stream",
          "name": "stdout",
          "text": [
            "Nilai minimum         : 0.0\n",
            "Nilai maksimum        : 1.0\n"
          ]
        }
      ]
    },
    {
      "cell_type": "markdown",
      "source": [
        "##Eksplore Data"
      ],
      "metadata": {
        "id": "dT7M9u073je3"
      }
    },
    {
      "cell_type": "markdown",
      "source": [
        "##Visualisai Comparison"
      ],
      "metadata": {
        "id": "4WL3xthm3w9Q"
      }
    },
    {
      "cell_type": "code",
      "source": [
        "import numpy as np # linear algebra\n",
        "import pandas as pd # data processing, CSV file I/O (e.g. pd.read_csv)\n",
        "import matplotlib.pyplot as plt\n",
        "import seaborn as sns\n",
        "from collections import Counter\n",
        "%matplotlib inline"
      ],
      "metadata": {
        "id": "31EE5Xjw32Fv"
      },
      "execution_count": 49,
      "outputs": []
    },
    {
      "cell_type": "code",
      "source": [
        "country_count = Counter(df['playerID'].dropna().tolist()).most_common(10)\n",
        "country_idx = [country[0] for country in country_count]\n",
        "country_val = [country[1] for country in country_count]\n",
        "fig,ax = plt.subplots(figsize=(8,6))\n",
        "sns.barplot(x = country_idx,y=country_val ,ax =ax)\n",
        "plt.title('PlayerID')\n",
        "plt.xlabel('gomezle01')\n",
        "plt.ylabel('gomezle01')\n",
        "ticks = plt.setp(ax.get_xticklabels(),rotation=90)"
      ],
      "metadata": {
        "colab": {
          "base_uri": "https://localhost:8080/",
          "height": 459
        },
        "id": "vYrZEkRG36PS",
        "outputId": "8613fa2d-3627-4ad3-820f-4bb368d9350b"
      },
      "execution_count": 50,
      "outputs": [
        {
          "output_type": "display_data",
          "data": {
            "text/plain": [
              "<Figure size 576x432 with 1 Axes>"
            ],
            "image/png": "[encoded data removed]"
          },
          "metadata": {
            "needs_background": "light"
          }
        }
      ]
    },
    {
      "cell_type": "code",
      "source": [
        "df.describe()"
      ],
      "metadata": {
        "colab": {
          "base_uri": "https://localhost:8080/",
          "height": 300
        },
        "id": "zDTlSaq34mJB",
        "outputId": "871a3965-c288-4169-d4cf-4b6ea8915891"
      },
      "execution_count": 51,
      "outputs": [
        {
          "output_type": "execute_result",
          "data": {
            "text/plain": [
              "            yearID      gameNum           GP  startingPos\n",
              "count  5069.000000  5069.000000  5050.000000  1580.000000\n",
              "mean   1976.433024     0.136911     0.778218     5.037975\n",
              "std      23.693503     0.461412     0.415486     2.653486\n",
              "min    1933.000000     0.000000     0.000000     0.000000\n",
              "25%    1958.000000     0.000000     1.000000     3.000000\n",
              "50%    1976.000000     0.000000     1.000000     5.000000\n",
              "75%    1998.000000     0.000000     1.000000     7.000000\n",
              "max    2015.000000     2.000000     1.000000    10.000000"
            ],
            "text/html": [
              "\n",
              "  <div id=\"df-caee8e57-225c-4a4a-b2e5-0bc4472a0525\">\n",
              "    <div class=\"colab-df-container\">\n",
              "      <div>\n",
              "<style scoped>\n",
              "    .dataframe tbody tr th:only-of-type {\n",
              "        vertical-align: middle;\n",
              "    }\n",
              "\n",
              "    .dataframe tbody tr th {\n",
              "        vertical-align: top;\n",
              "    }\n",
              "\n",
              "    .dataframe thead th {\n",
              "        text-align: right;\n",
              "    }\n",
              "</style>\n",
              "<table border=\"1\" class=\"dataframe\">\n",
              "  <thead>\n",
              "    <tr style=\"text-align: right;\">\n",
              "      <th></th>\n",
              "      <th>yearID</th>\n",
              "      <th>gameNum</th>\n",
              "      <th>GP</th>\n",
              "      <th>startingPos</th>\n",
              "    </tr>\n",
              "  </thead>\n",
              "  <tbody>\n",
              "    <tr>\n",
              "      <th>count</th>\n",
              "      <td>5069.000000</td>\n",
              "      <td>5069.000000</td>\n",
              "      <td>5050.000000</td>\n",
              "      <td>1580.000000</td>\n",
              "    </tr>\n",
              "    <tr>\n",
              "      <th>mean</th>\n",
              "      <td>1976.433024</td>\n",
              "      <td>0.136911</td>\n",
              "      <td>0.778218</td>\n",
              "      <td>5.037975</td>\n",
              "    </tr>\n",
              "    <tr>\n",
              "      <th>std</th>\n",
              "      <td>23.693503</td>\n",
              "      <td>0.461412</td>\n",
              "      <td>0.415486</td>\n",
              "      <td>2.653486</td>\n",
              "    </tr>\n",
              "    <tr>\n",
              "      <th>min</th>\n",
              "      <td>1933.000000</td>\n",
              "      <td>0.000000</td>\n",
              "      <td>0.000000</td>\n",
              "      <td>0.000000</td>\n",
              "    </tr>\n",
              "    <tr>\n",
              "      <th>25%</th>\n",
              "      <td>1958.000000</td>\n",
              "      <td>0.000000</td>\n",
              "      <td>1.000000</td>\n",
              "      <td>3.000000</td>\n",
              "    </tr>\n",
              "    <tr>\n",
              "      <th>50%</th>\n",
              "      <td>1976.000000</td>\n",
              "      <td>0.000000</td>\n",
              "      <td>1.000000</td>\n",
              "      <td>5.000000</td>\n",
              "    </tr>\n",
              "    <tr>\n",
              "      <th>75%</th>\n",
              "      <td>1998.000000</td>\n",
              "      <td>0.000000</td>\n",
              "      <td>1.000000</td>\n",
              "      <td>7.000000</td>\n",
              "    </tr>\n",
              "    <tr>\n",
              "      <th>max</th>\n",
              "      <td>2015.000000</td>\n",
              "      <td>2.000000</td>\n",
              "      <td>1.000000</td>\n",
              "      <td>10.000000</td>\n",
              "    </tr>\n",
              "  </tbody>\n",
              "</table>\n",
              "</div>\n",
              "      <button class=\"colab-df-convert\" onclick=\"convertToInteractive('df-caee8e57-225c-4a4a-b2e5-0bc4472a0525')\"\n",
              "              title=\"Convert this dataframe to an interactive table.\"\n",
              "              style=\"display:none;\">\n",
              "        \n",
              "  <svg xmlns=\"http://www.w3.org/2000/svg\" height=\"24px\"viewBox=\"0 0 24 24\"\n",
              "       width=\"24px\">\n",
              "    <path d=\"M0 0h24v24H0V0z\" fill=\"none\"/>\n",
              "    <path d=\"M18.56 5.44l.94 2.06.94-2.06 2.06-.94-2.06-.94-.94-2.06-.94 2.06-2.06.94zm-11 1L8.5 8.5l.94-2.06 2.06-.94-2.06-.94L8.5 2.5l-.94 2.06-2.06.94zm10 10l.94 2.06.94-2.06 2.06-.94-2.06-.94-.94-2.06-.94 2.06-2.06.94z\"/><path d=\"M17.41 7.96l-1.37-1.37c-.4-.4-.92-.59-1.43-.59-.52 0-1.04.2-1.43.59L10.3 9.45l-7.72 7.72c-.78.78-.78 2.05 0 2.83L4 21.41c.39.39.9.59 1.41.59.51 0 1.02-.2 1.41-.59l7.78-7.78 2.81-2.81c.8-.78.8-2.07 0-2.86zM5.41 20L4 18.59l7.72-7.72 1.47 1.35L5.41 20z\"/>\n",
              "  </svg>\n",
              "      </button>\n",
              "      \n",
              "  <style>\n",
              "    .colab-df-container {\n",
              "      display:flex;\n",
              "      flex-wrap:wrap;\n",
              "      gap: 12px;\n",
              "    }\n",
              "\n",
              "    .colab-df-convert {\n",
              "      background-color: #E8F0FE;\n",
              "      border: none;\n",
              "      border-radius: 50%;\n",
              "      cursor: pointer;\n",
              "      display: none;\n",
              "      fill: #1967D2;\n",
              "      height: 32px;\n",
              "      padding: 0 0 0 0;\n",
              "      width: 32px;\n",
              "    }\n",
              "\n",
              "    .colab-df-convert:hover {\n",
              "      background-color: #E2EBFA;\n",
              "      box-shadow: 0px 1px 2px rgba(60, 64, 67, 0.3), 0px 1px 3px 1px rgba(60, 64, 67, 0.15);\n",
              "      fill: #174EA6;\n",
              "    }\n",
              "\n",
              "    [theme=dark] .colab-df-convert {\n",
              "      background-color: #3B4455;\n",
              "      fill: #D2E3FC;\n",
              "    }\n",
              "\n",
              "    [theme=dark] .colab-df-convert:hover {\n",
              "      background-color: #434B5C;\n",
              "      box-shadow: 0px 1px 3px 1px rgba(0, 0, 0, 0.15);\n",
              "      filter: drop-shadow(0px 1px 2px rgba(0, 0, 0, 0.3));\n",
              "      fill: #FFFFFF;\n",
              "    }\n",
              "  </style>\n",
              "\n",
              "      <script>\n",
              "        const buttonEl =\n",
              "          document.querySelector('#df-caee8e57-225c-4a4a-b2e5-0bc4472a0525 button.colab-df-convert');\n",
              "        buttonEl.style.display =\n",
              "          google.colab.kernel.accessAllowed ? 'block' : 'none';\n",
              "\n",
              "        async function convertToInteractive(key) {\n",
              "          const element = document.querySelector('#df-caee8e57-225c-4a4a-b2e5-0bc4472a0525');\n",
              "          const dataTable =\n",
              "            await google.colab.kernel.invokeFunction('convertToInteractive',\n",
              "                                                     [key], {});\n",
              "          if (!dataTable) return;\n",
              "\n",
              "          const docLinkHtml = 'Like what you see? Visit the ' +\n",
              "            '<a target=\"_blank\" href=https://colab.research.google.com/notebooks/data_table.ipynb>data table notebook</a>'\n",
              "            + ' to learn more about interactive tables.';\n",
              "          element.innerHTML = '';\n",
              "          dataTable['output_type'] = 'display_data';\n",
              "          await google.colab.output.renderOutput(dataTable, element);\n",
              "          const docLink = document.createElement('div');\n",
              "          docLink.innerHTML = docLinkHtml;\n",
              "          element.appendChild(docLink);\n",
              "        }\n",
              "      </script>\n",
              "    </div>\n",
              "  </div>\n",
              "  "
            ]
          },
          "metadata": {},
          "execution_count": 51
        }
      ]
    },
    {
      "cell_type": "code",
      "source": [
        "fig, ax = plt.subplots(figsize = (14, 6))\n",
        "max_width = 13\n",
        "\n",
        "index = df['startingPos'].fillna('NaN').value_counts().index[0:4]\n",
        "count = df['startingPos'].fillna('NaN').value_counts()[0:4]\n",
        "sns.barplot(x = index, y = count, order = index)\n",
        "ax.set_title('Data Keseluruhan yearID dan gameNum', fontsize = 18)\n",
        "\n",
        "for i, count in enumerate(count):\n",
        "    ax.text(x=i-0.1 , y =count+0 , s=f\"{count}\" , fontdict=dict(fontsize=10))\n",
        "ax.set_ylabel('gameID', fontsize = 14)\n",
        "ax.set_ylim(0, df['GP'].fillna('NaN').value_counts()[0]+10)\n",
        "\n",
        "plt.show()"
      ],
      "metadata": {
        "colab": {
          "base_uri": "https://localhost:8080/",
          "height": 383
        },
        "id": "Ri7tJCZ6Xb5S",
        "outputId": "0320a04f-53fe-4f7a-bfbe-c2d8827539ba"
      },
      "execution_count": 52,
      "outputs": [
        {
          "output_type": "display_data",
          "data": {
            "text/plain": [
              "<Figure size 1008x432 with 1 Axes>"
            ],
            "image/png": "[encoded data removed]"
          },
          "metadata": {
            "needs_background": "light"
          }
        }
      ]
    },
    {
      "cell_type": "markdown",
      "source": [
        "##Visualisasi Distribution"
      ],
      "metadata": {
        "id": "Pw3S5mSyZc3J"
      }
    },
    {
      "cell_type": "code",
      "source": [
        "# Mendefinisikan Kolom pada list dari dataset\n",
        "num_cols = ['playerID', 'yearID']\n",
        "\n",
        "# Membuat diagram\n",
        "fig, ax = plt.subplots(2, figsize=(14, 14))\n",
        "fig.tight_layout(pad=2)\n",
        "\n",
        "for ax, col in zip(ax.flatten(), num_cols):\n",
        "    sns.histplot(ax=ax, data=df, x=col, kde=True, stat='density')\n",
        "    ax.set_title(col, fontsize=18)\n",
        "    \n",
        "\n",
        "plt.show()"
      ],
      "metadata": {
        "colab": {
          "base_uri": "https://localhost:8080/",
          "height": 846
        },
        "id": "RBn8lHhkZhJI",
        "outputId": "b9383eb7-3113-4c6a-a0fc-816070339cdd"
      },
      "execution_count": 53,
      "outputs": [
        {
          "output_type": "display_data",
          "data": {
            "text/plain": [
              "<Figure size 1008x1008 with 2 Axes>"
            ],
            "image/png": "[encoded data removed]"
          },
          "metadata": {
            "needs_background": "light"
          }
        }
      ]
    },
    {
      "cell_type": "code",
      "source": [
        "num_cols = ['startingPos', 'gameNum']\n",
        "\n",
        "fig, ax = plt.subplots(len(num_cols), 1, figsize = (14, 14))\n",
        "fig.tight_layout(pad = 8)\n",
        "\n",
        "for i, col in enumerate(num_cols):\n",
        "    sns.boxplot(ax = ax[i], x = df[col], orient = 'h', color = 'aqua')\n",
        "    ax[i].set_title(col, fontsize = 18)\n",
        "\n",
        "plt.show()"
      ],
      "metadata": {
        "colab": {
          "base_uri": "https://localhost:8080/",
          "height": 905
        },
        "id": "_aE3RfL7b8qV",
        "outputId": "38a58b69-27a3-4d94-c513-3640d69b1fa8"
      },
      "execution_count": 54,
      "outputs": [
        {
          "output_type": "display_data",
          "data": {
            "text/plain": [
              "<Figure size 1008x1008 with 2 Axes>"
            ],
            "image/png": "[encoded data removed]"
          },
          "metadata": {
            "needs_background": "light"
          }
        }
      ]
    },
    {
      "cell_type": "markdown",
      "source": [
        "##Visualisasi Relationship"
      ],
      "metadata": {
        "id": "Vn7YfbbRdMn_"
      }
    },
    {
      "cell_type": "code",
      "source": [
        "fig, ax = plt.subplots(figsize=(12, 8))\n",
        "sns.scatterplot(data=df, x=\"playerID\", y=\"yearID\")\n",
        "ax.set_title('playerID yang berdasarkan yearID ', fontsize=18)\n",
        "ax.set_xlabel('playerID', fontsize=14)\n",
        "ax.set_ylabel('yearID', fontsize=14)\n",
        "plt.xticks(fontsize=12)\n",
        "plt.yticks(fontsize=12)\n",
        "plt.show()\n"
      ],
      "metadata": {
        "colab": {
          "base_uri": "https://localhost:8080/",
          "height": 526
        },
        "id": "_tgRsUOndRD_",
        "outputId": "380da21e-1b7f-49c6-a694-6a2a17a60f98"
      },
      "execution_count": 55,
      "outputs": [
        {
          "output_type": "display_data",
          "data": {
            "text/plain": [
              "<Figure size 864x576 with 1 Axes>"
            ],
            "image/png": "[encoded data removed]"
          },
          "metadata": {
            "needs_background": "light"
          }
        }
      ]
    },
    {
      "cell_type": "markdown",
      "source": [
        "##Visualisai Composition"
      ],
      "metadata": {
        "id": "M8UuNJUueROX"
      }
    },
    {
      "cell_type": "code",
      "source": [
        "cormat = df.corr()\n",
        "fig, ax = plt.subplots(figsize = (12, 8))\n",
        "sns.heatmap(ax = ax, data = cormat, annot = True)\n",
        "ax.set_yticklabels(cormat.columns, rotation = 0)\n",
        "plt.show()"
      ],
      "metadata": {
        "colab": {
          "base_uri": "https://localhost:8080/",
          "height": 489
        },
        "id": "Z_JcXSfpeUlP",
        "outputId": "bbb04227-6b5f-40b2-b2be-fff0acf88d3e"
      },
      "execution_count": 56,
      "outputs": [
        {
          "output_type": "display_data",
          "data": {
            "text/plain": [
              "<Figure size 864x576 with 2 Axes>"
            ],
            "image/png": "[encoded data removed]"
          },
          "metadata": {
            "needs_background": "light"
          }
        }
      ]
    },
    {
      "cell_type": "code",
      "source": [
        "#Calculate count of each Level category\n",
        "level_count = df['gameNum'].value_counts()\n",
        "\n",
        "#Create pie chart for Level categories\n",
        "fig, ax = plt.subplots(figsize=(10, 8))\n",
        "ax.pie(level_count, labels=level_count.index, autopct='%1.1f%%')\n",
        "ax.set_title('Persentase gameNum stok dari semua databank')\n",
        "plt.show()"
      ],
      "metadata": {
        "colab": {
          "base_uri": "https://localhost:8080/",
          "height": 482
        },
        "id": "_1wLl9_YecX3",
        "outputId": "5f675c52-8868-449f-f3fa-de875b4603e6"
      },
      "execution_count": 57,
      "outputs": [
        {
          "output_type": "display_data",
          "data": {
            "text/plain": [
              "<Figure size 720x576 with 1 Axes>"
            ],
            "image/png": "[encoded data removed]"
          },
          "metadata": {}
        }
      ]
    },
    {
      "cell_type": "markdown",
      "source": [
        "##Verify data quality"
      ],
      "metadata": {
        "id": "OEGcAGEIfDgB"
      }
    },
    {
      "cell_type": "code",
      "source": [
        "# Check for missing values\n",
        "missing_values = df.isnull().sum()\n",
        "print(\"Missing values:\\n\", missing_values)\n",
        "\n",
        "# Check for duplicates\n",
        "duplicate_rows = df.duplicated()\n",
        "print(\"Number of duplicate rows:\", duplicate_rows.sum())\n",
        "\n",
        "# Check for outliers\n",
        "Q1 = df.quantile(0.25)\n",
        "Q3 = df.quantile(0.75)\n",
        "IQR = Q3 - Q1\n",
        "outliers = ((df < (Q1 - 1.5 * IQR)) | (df > (Q3 + 1.5 * IQR))).sum()\n",
        "print(\"Outliers:\\n\", outliers)\n",
        "\n",
        "# Check data types\n",
        "print(\"Data types:\\n\", df.dtypes)\n"
      ],
      "metadata": {
        "colab": {
          "base_uri": "https://localhost:8080/"
        },
        "id": "rL68eylvfGhQ",
        "outputId": "284874f8-a65a-4524-f07c-88d9e4d89812"
      },
      "execution_count": 58,
      "outputs": [
        {
          "output_type": "stream",
          "name": "stdout",
          "text": [
            "Missing values:\n",
            " playerID          0\n",
            "yearID            0\n",
            "gameNum           0\n",
            "gameID           49\n",
            "teamID            0\n",
            "lgID              0\n",
            "GP               19\n",
            "startingPos    3489\n",
            "dtype: int64\n",
            "Number of duplicate rows: 0\n",
            "Outliers:\n",
            " GP             1120\n",
            "gameID            0\n",
            "gameNum         454\n",
            "lgID              0\n",
            "playerID          0\n",
            "startingPos       0\n",
            "teamID            0\n",
            "yearID            0\n",
            "dtype: int64\n",
            "Data types:\n",
            " playerID        object\n",
            "yearID           int64\n",
            "gameNum          int64\n",
            "gameID          object\n",
            "teamID          object\n",
            "lgID            object\n",
            "GP             float64\n",
            "startingPos    float64\n",
            "dtype: object\n"
          ]
        },
        {
          "output_type": "stream",
          "name": "stderr",
          "text": [
            "<ipython-input-58-1a4e1a793f1e>:13: FutureWarning: Automatic reindexing on DataFrame vs Series comparisons is deprecated and will raise ValueError in a future version. Do `left, right = left.align(right, axis=1, copy=False)` before e.g. `left == right`\n",
            "  outliers = ((df < (Q1 - 1.5 * IQR)) | (df > (Q3 + 1.5 * IQR))).sum()\n"
          ]
        }
      ]
    },
    {
      "cell_type": "markdown",
      "source": [
        "##Data Preparation"
      ],
      "metadata": {
        "id": "Dh1yWRLtfMKm"
      }
    },
    {
      "cell_type": "markdown",
      "source": [
        "##Select Data"
      ],
      "metadata": {
        "id": "JI0CSKUbfShu"
      }
    },
    {
      "cell_type": "code",
      "source": [
        "import pandas as pd"
      ],
      "metadata": {
        "id": "wVc4vAYofVFC"
      },
      "execution_count": 59,
      "outputs": []
    },
    {
      "cell_type": "code",
      "source": [
        "df = pd.read_csv(\"AllstarFull.csv\")"
      ],
      "metadata": {
        "id": "47m8cld5fdi_"
      },
      "execution_count": null,
      "outputs": []
    },
    {
      "cell_type": "code",
      "source": [
        "# Membuat hanya menampikan 2 Kolom\n",
        "selected_data = df[[\"playerID\", \"yearID\"]]\n",
        "\n",
        "# Menampilkan Perintah\n",
        "print(selected_data.head())"
      ],
      "metadata": {
        "colab": {
          "base_uri": "https://localhost:8080/"
        },
        "id": "DgYUWv5TfjiF",
        "outputId": "4198b795-0b00-4966-fad1-806b437eb3d5"
      },
      "execution_count": 60,
      "outputs": [
        {
          "output_type": "stream",
          "name": "stdout",
          "text": [
            "    playerID  yearID\n",
            "0  gomezle01    1933\n",
            "1  ferreri01    1933\n",
            "2  gehrilo01    1933\n",
            "3  gehrich01    1933\n",
            "4  dykesji01    1933\n"
          ]
        }
      ]
    },
    {
      "cell_type": "code",
      "source": [
        "# Membuat hanya menampikan 3 Kolom\n",
        "selected_data = df[[\"playerID\", \"yearID\", \"gameID\"]]\n",
        "\n",
        "# Menampilkan Perintah\n",
        "print(selected_data.head())"
      ],
      "metadata": {
        "colab": {
          "base_uri": "https://localhost:8080/"
        },
        "id": "TXKgBe9Yfslk",
        "outputId": "15c25c6a-3d92-46a7-a5c8-bee6e3ff5d87"
      },
      "execution_count": 61,
      "outputs": [
        {
          "output_type": "stream",
          "name": "stdout",
          "text": [
            "    playerID  yearID        gameID\n",
            "0  gomezle01    1933  ALS193307060\n",
            "1  ferreri01    1933  ALS193307060\n",
            "2  gehrilo01    1933  ALS193307060\n",
            "3  gehrich01    1933  ALS193307060\n",
            "4  dykesji01    1933  ALS193307060\n"
          ]
        }
      ]
    },
    {
      "cell_type": "markdown",
      "source": [
        "##Clean Data"
      ],
      "metadata": {
        "id": "X3g915Raf5Yp"
      }
    },
    {
      "cell_type": "code",
      "source": [
        "df.isna().sum()"
      ],
      "metadata": {
        "colab": {
          "base_uri": "https://localhost:8080/"
        },
        "id": "QW7HzWFkf75w",
        "outputId": "59504ec7-e559-49e2-85f6-627bc36a01b8"
      },
      "execution_count": 62,
      "outputs": [
        {
          "output_type": "execute_result",
          "data": {
            "text/plain": [
              "playerID          0\n",
              "yearID            0\n",
              "gameNum           0\n",
              "gameID           49\n",
              "teamID            0\n",
              "lgID              0\n",
              "GP               19\n",
              "startingPos    3489\n",
              "dtype: int64"
            ]
          },
          "metadata": {},
          "execution_count": 62
        }
      ]
    },
    {
      "cell_type": "code",
      "source": [
        "df.isna().sum() / len(df) * 100"
      ],
      "metadata": {
        "colab": {
          "base_uri": "https://localhost:8080/"
        },
        "id": "wlaOsXy9gH12",
        "outputId": "f1d9e657-0547-4ffc-adfa-c53b3ef0e16b"
      },
      "execution_count": 63,
      "outputs": [
        {
          "output_type": "execute_result",
          "data": {
            "text/plain": [
              "playerID        0.000000\n",
              "yearID          0.000000\n",
              "gameNum         0.000000\n",
              "gameID          0.966660\n",
              "teamID          0.000000\n",
              "lgID            0.000000\n",
              "GP              0.374827\n",
              "startingPos    68.830144\n",
              "dtype: float64"
            ]
          },
          "metadata": {},
          "execution_count": 63
        }
      ]
    },
    {
      "cell_type": "code",
      "source": [
        "df[\"gameID\"] = df[\"gameID\"].fillna(df[\"gameID\"].mode()[0])\n",
        "df[\"GP\"] = df[\"GP\"].fillna(df[\"GP\"].mode()[0])\n",
        "df[\"startingPos\"] = df[\"startingPos\"].fillna(df[\"startingPos\"].mode()[0])"
      ],
      "metadata": {
        "id": "tiwtvvENgMaF"
      },
      "execution_count": 64,
      "outputs": []
    },
    {
      "cell_type": "code",
      "source": [
        "df.isna().sum()"
      ],
      "metadata": {
        "colab": {
          "base_uri": "https://localhost:8080/"
        },
        "id": "qIUeZyrfgYfg",
        "outputId": "58df03f1-5826-4adf-b792-832429071b40"
      },
      "execution_count": 65,
      "outputs": [
        {
          "output_type": "execute_result",
          "data": {
            "text/plain": [
              "playerID       0\n",
              "yearID         0\n",
              "gameNum        0\n",
              "gameID         0\n",
              "teamID         0\n",
              "lgID           0\n",
              "GP             0\n",
              "startingPos    0\n",
              "dtype: int64"
            ]
          },
          "metadata": {},
          "execution_count": 65
        }
      ]
    },
    {
      "cell_type": "code",
      "source": [
        "df.isna().sum() / len(df) * 100"
      ],
      "metadata": {
        "colab": {
          "base_uri": "https://localhost:8080/"
        },
        "id": "n0xdWvN9gppC",
        "outputId": "de13405e-4092-41ef-bfbc-05dbf0e0d0ef"
      },
      "execution_count": 66,
      "outputs": [
        {
          "output_type": "execute_result",
          "data": {
            "text/plain": [
              "playerID       0.0\n",
              "yearID         0.0\n",
              "gameNum        0.0\n",
              "gameID         0.0\n",
              "teamID         0.0\n",
              "lgID           0.0\n",
              "GP             0.0\n",
              "startingPos    0.0\n",
              "dtype: float64"
            ]
          },
          "metadata": {},
          "execution_count": 66
        }
      ]
    },
    {
      "cell_type": "markdown",
      "source": [
        "##Construct Data"
      ],
      "metadata": {
        "id": "JtzzKEB5gtDz"
      }
    },
    {
      "cell_type": "code",
      "source": [
        "import pandas as pd"
      ],
      "metadata": {
        "id": "u8bpD73kgxCy"
      },
      "execution_count": 67,
      "outputs": []
    },
    {
      "cell_type": "code",
      "source": [
        "df = pd.read_csv(\"AllstarFull.csv\")"
      ],
      "metadata": {
        "id": "rBUob4cCg06Q"
      },
      "execution_count": 68,
      "outputs": []
    },
    {
      "cell_type": "code",
      "source": [
        "# Buat fitur baru yang menghitung selisih nilai maksimum dan minimum setiap uang kertas\n",
        "df[\"playerID\"] = df[\"yearID\"] - df[\"gameNum\"]\n",
        "\n",
        "#Menampilkan beberapa baris pertama dari kumpulan data yang dimodifikasi\n",
        "print(df.head())"
      ],
      "metadata": {
        "colab": {
          "base_uri": "https://localhost:8080/"
        },
        "id": "0zC8dpjrg6ZB",
        "outputId": "bd8d906b-5b61-4599-feac-d88d71204a49"
      },
      "execution_count": 69,
      "outputs": [
        {
          "output_type": "stream",
          "name": "stdout",
          "text": [
            "   playerID  yearID  gameNum        gameID teamID lgID   GP  startingPos\n",
            "0      1933    1933        0  ALS193307060    NYA   AL  1.0          1.0\n",
            "1      1933    1933        0  ALS193307060    BOS   AL  1.0          2.0\n",
            "2      1933    1933        0  ALS193307060    NYA   AL  1.0          3.0\n",
            "3      1933    1933        0  ALS193307060    DET   AL  1.0          4.0\n",
            "4      1933    1933        0  ALS193307060    CHA   AL  1.0          5.0\n"
          ]
        }
      ]
    },
    {
      "cell_type": "code",
      "source": [
        "import pandas as pd\n",
        "\n",
        "# Membuat DataFrame dummy untuk contoh\n",
        "data = {'startingPos': ['1.0', '2.0', '3.0', '4.0'],\n",
        "        'yearID': [1933, 1933, 1933, 1933]}\n",
        "       \n",
        "\n",
        "df = pd.DataFrame(data)\n",
        "\n",
        "# Menghitung tahun dari setiap player di databank\n",
        "df['yearID'] = df['yearID'] / ((df['yearID'] / 100) ** 2)\n",
        "\n",
        "# Menghapus kolom yang tidak diperlukan\n",
        "df = df.drop('yearID', axis=1)\n",
        "\n",
        "# Menampilkan DataFrame setelah Construct Data\n",
        "print(df)\n"
      ],
      "metadata": {
        "colab": {
          "base_uri": "https://localhost:8080/"
        },
        "id": "bsCe123zZMd2",
        "outputId": "0b673741-a23e-465b-ce54-3e1f14a8af2f"
      },
      "execution_count": 79,
      "outputs": [
        {
          "output_type": "stream",
          "name": "stdout",
          "text": [
            "  startingPos\n",
            "0         1.0\n",
            "1         2.0\n",
            "2         3.0\n",
            "3         4.0\n"
          ]
        }
      ]
    },
    {
      "cell_type": "markdown",
      "source": [
        "##Integrate Data"
      ],
      "metadata": {
        "id": "lHOYqK8bMyg_"
      }
    },
    {
      "cell_type": "code",
      "source": [
        "df = pd.read_csv('AllstarFull.csv')\n",
        "\n",
        "# Melakukan integrasi data dengan menambahkan kolom baru\n",
        "df['yearID'] = df['gameNum'] + df['GP']\n",
        "\n",
        "# Melakukan perubahan pada nilai data tertentu\n",
        "df.loc[df['startingPos'] == 'nilai_awal', 'startingPos'] = 'nilai_baru'\n",
        "\n",
        "# Melakukan penghapusan kolom yang tidak diperlukan\n",
        "df = df.drop(['playerID', 'gameID'], axis=1)\n",
        "\n",
        "# Menyimpan dataset yang telah diubah\n",
        "df.to_csv('integrity data.csv', index=False)\n",
        "\n",
        "print(\"berhasil membuat dataset baru dan menambahkan 1 kolom baru yaitu \")"
      ],
      "metadata": {
        "colab": {
          "base_uri": "https://localhost:8080/"
        },
        "id": "fmIiXQSINIzO",
        "outputId": "418469d9-dedf-430d-dce6-fe69435c5c3c"
      },
      "execution_count": 71,
      "outputs": [
        {
          "output_type": "stream",
          "name": "stdout",
          "text": [
            "berhasil membuat dataset baru dan menambahkan 1 kolom baru yaitu \n"
          ]
        }
      ]
    },
    {
      "cell_type": "markdown",
      "source": [
        "##Format Data"
      ],
      "metadata": {
        "id": "bS10BloHRYAP"
      }
    },
    {
      "cell_type": "code",
      "source": [
        "# Membaca file csv\n",
        "df = pd.read_csv('AllstarFull.csv')\n",
        "\n",
        "# Menghapus kolom yang tidak diperlukan\n",
        "df = df.drop(['gameNum', 'GP'], axis=1)\n",
        "\n",
        "# Mengganti nilai null dengan nilai rata-rata\n",
        "mean_value = df['yearID'].mean()\n",
        "df['yearID'] = df['yearID'].fillna(mean_value)\n",
        "\n",
        "# Mengubah tipe data kolom4 dari string ke integer\n",
        "df['yearID'] = df['yearID'].astype(int)\n",
        "\n",
        "# Menghapus baris yang duplikat\n",
        "df = df.drop_duplicates()\n",
        "\n",
        "# Mengurutkan data berdasarkan kolom5\n",
        "df = df.sort_values('playerID')\n",
        "\n",
        "# Menyimpan hasil pengolahan data ke file csv\n",
        "df.to_csv('data_cleaned.csv', index=False)"
      ],
      "metadata": {
        "id": "5DqmCcZ9RbSW"
      },
      "execution_count": 72,
      "outputs": []
    }
  ]
}